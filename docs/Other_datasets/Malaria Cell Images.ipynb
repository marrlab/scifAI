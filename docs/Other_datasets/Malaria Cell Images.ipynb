{
 "cells": [
  {
   "cell_type": "markdown",
   "metadata": {},
   "source": [
    "# Classification of Malaria cells\n",
    "\n",
    "In this jupyter notebook, we provide an example of how to extract explainable features and run a classification for the imaging flow cytometry dataset provided by:\n",
    "\n",
    "Reconstructing cell cycle and disease progression using deep learning. https://doi.org/10.1038/s41467-017-00623-3\n",
    "\n",
    "We assume you have already installed the library. Otherwise you can install it using \n",
    "\n",
    "`!pip -q install <Path to the cloned module>`\n",
    "\n",
    "we used this example to show that scifAI can be used for a variety of datasets and images"
   ]
  },
  {
   "cell_type": "code",
   "execution_count": null,
   "metadata": {},
   "outputs": [],
   "source": [
    "!pip -q install /pstore/home/shetabs1/code/MarrLab/scifAI/"
   ]
  },
  {
   "cell_type": "markdown",
   "metadata": {},
   "source": [
    "here we import a series of needed modules. "
   ]
  },
  {
   "cell_type": "code",
   "execution_count": null,
   "metadata": {},
   "outputs": [],
   "source": [
    "import scifAI\n",
    "import matplotlib.pyplot as plt\n",
    "import scifAI.ml.features as features\n",
    "from scifAI.ml.auto_feature_selection import AutoFeatureSelection\n",
    "from scifAI.ml.segmentation import segment_all_channels\n",
    "import numpy as np\n",
    "import pandas as pd\n",
    "import os\n",
    "import glob\n",
    "import warnings\n",
    "warnings.filterwarnings(\"ignore\")\n",
    "from tqdm import tqdm \n",
    "from sklearn.model_selection import train_test_split\n",
    "from sklearn.pipeline import Pipeline, FeatureUnion\n",
    "from sklearn.feature_extraction import DictVectorizer\n",
    "from sklearn.preprocessing import MinMaxScaler \n",
    "from sklearn.ensemble import RandomForestClassifier\n",
    "from sklearn.model_selection import GridSearchCV\n",
    "from xgboost import XGBClassifier\n",
    "import seaborn as sns\n"
   ]
  },
  {
   "cell_type": "markdown",
   "metadata": {},
   "source": [
    "here, we provide a function for visualizing the result of the confusion matrix which will be used later."
   ]
  },
  {
   "cell_type": "code",
   "execution_count": null,
   "metadata": {},
   "outputs": [],
   "source": [
    "from sklearn.metrics import (plot_confusion_matrix, \n",
    "                             matthews_corrcoef, \n",
    "                             classification_report,\n",
    "                             confusion_matrix, \n",
    "                             accuracy_score, \n",
    "                             balanced_accuracy_score, \n",
    "                             cohen_kappa_score, \n",
    "                             f1_score,  \n",
    "                             precision_score, recall_score)\n",
    "from imblearn.metrics import classification_report_imbalanced\n",
    "\n",
    "def classification_complete_report(estimator, X, y_true, plot = True ): \n",
    "    y_pred = estimator.predict(X)\n",
    "    print(classification_report(y_true, y_pred))\n",
    "    print(classification_report_imbalanced(y_true, y_pred))\n",
    "    print(15*\"----\")\n",
    "    print(\"matthews correlation coeff: %.2f\" % (matthews_corrcoef(y_true, y_pred)) )\n",
    "    print(\"Cohen Kappa score: %.2f\" % (cohen_kappa_score(y_true, y_pred)) )\n",
    "    print(\"Cohen Kappa score: %.2f\" % (cohen_kappa_score(y_true, y_pred)) )\n",
    "    print(\"Accuracy: %.2f & balanced Accuracy: %.2f\" % (accuracy_score(y_true, y_pred), balanced_accuracy_score(y_true, y_pred)) )\n",
    "    print(\"macro F1 score: %.2f & micro F1 score: %.2f\" % (f1_score(y_true, y_pred, average = \"macro\"), f1_score(y_true, y_pred, average = \"micro\")) )\n",
    "    print(\"macro Precision score: %.2f & micro Precision score: %.2f\" % (precision_score(y_true, y_pred, average = \"macro\"), precision_score(y_true, y_pred, average = \"micro\")) )\n",
    "    print(\"macro Recall score: %.2f & micro Recall score: %.2f\" % (recall_score(y_true, y_pred, average = \"macro\"), recall_score(y_true, y_pred, average = \"micro\")) )\n",
    "    print(15*\"----\")\n",
    "    \n",
    "    if plot:\n",
    "        plot_confusion_matrix(estimator, X, y_true,cmap = \"Greys\", xticks_rotation='vertical')\n",
    "    "
   ]
  },
  {
   "cell_type": "markdown",
   "metadata": {},
   "source": [
    "considering that the images are not in the expected format of the scifAI, we need to create our own metadata generator based on the images and their directories"
   ]
  },
  {
   "cell_type": "code",
   "execution_count": null,
   "metadata": {},
   "outputs": [],
   "source": [
    "%%time\n",
    "\n",
    "data_path = \"/pstore/data/DS4/ssl_vs_al/data/malaria/\"\n",
    "\n",
    "metadata_columns = [\"file\", \"set\", \"label\"]\n",
    "metadata = pd.DataFrame(columns=metadata_columns)\n",
    "\n",
    "for cl in [\"Parasitized\", \"Uninfected\"]:\n",
    "    metadata_dummy = pd.DataFrame(columns=metadata_columns)\n",
    "    metadata_dummy[\"file\"] = glob.glob(os.path.join(data_path, cl, \"*.png\"))\n",
    "    metadata_dummy[\"set\"] = \"train\"\n",
    "    metadata_dummy[\"label\"] = cl\n",
    "    metadata = metadata.append(metadata_dummy, ignore_index = True)\n",
    "    metadata_dummy = None\n",
    "     \n"
   ]
  },
  {
   "cell_type": "code",
   "execution_count": 5,
   "metadata": {},
   "outputs": [
    {
     "data": {
      "text/plain": [
       "<AxesSubplot:>"
      ]
     },
     "execution_count": 5,
     "metadata": {},
     "output_type": "execute_result"
    },
    {
     "data": {
      "image/png": "[encoded data removed]",
      "text/plain": [
       "<Figure size 432x288 with 1 Axes>"
      ]
     },
     "metadata": {
      "needs_background": "light"
     },
     "output_type": "display_data"
    }
   ],
   "source": [
    "metadata.label.hist()"
   ]
  },
  {
   "cell_type": "markdown",
   "metadata": {},
   "source": [
    "to reduce calculation time, we subsample the data"
   ]
  },
  {
   "cell_type": "code",
   "execution_count": 6,
   "metadata": {},
   "outputs": [],
   "source": [
    "metadata = metadata.sample(10000).reset_index(drop = True)"
   ]
  },
  {
   "cell_type": "markdown",
   "metadata": {},
   "source": [
    "now lets create the feature_union"
   ]
  },
  {
   "cell_type": "code",
   "execution_count": 7,
   "metadata": {},
   "outputs": [],
   "source": [
    "\n",
    "feature_union = FeatureUnion([\n",
    "                                (\"MaskBasedFeatures\", features.MaskBasedFeatures()), \n",
    "                                (\"GLCMFeatures\", features.GLCMFeatures()),  \n",
    "                                (\"GradientRMS\", features.GradientRMS()),  \n",
    "                                (\"BackgroundMean\", features.BackgroundMean()), \n",
    "                                (\"PercentileFeatures\", features.PercentileFeatures()), \n",
    "                                (\"CellShape\", features.CellShape()),  \n",
    "                                (\"Collocalization\", features.Collocalization()),    \n",
    "                                (\"IntersectionProperties\", features.IntersectionProperties()),\n",
    "                                (\"CenterOfCellsDistances\", features.CenterOfCellsDistances()),\n",
    "]\n",
    ")"
   ]
  },
  {
   "cell_type": "code",
   "execution_count": 8,
   "metadata": {},
   "outputs": [],
   "source": [
    "from scifAI.ml.segmentation import SegmentationGenerator\n",
    "\n",
    "pipeline = Pipeline([\n",
    "                     (\"features\", feature_union)], verbose=3)\n"
   ]
  },
  {
   "cell_type": "markdown",
   "metadata": {},
   "source": [
    "here also because the task is a bit different, we write our own feature extractor"
   ]
  },
  {
   "cell_type": "code",
   "execution_count": 9,
   "metadata": {},
   "outputs": [],
   "source": [
    "import pandas as pd\n",
    "import h5py\n",
    "from joblib import Parallel, delayed\n",
    "from tqdm import tqdm\n",
    "from scifAI.ml.segmentation import segment_all_channels\n",
    "from scifAI.utils import list_of_dict_to_dict\n",
    "from skimage.io import imread\n",
    "\n",
    "class FeatureExtractor(object):\n",
    "    def __init__(self, feature_unions):\n",
    "        self.feature_unions = feature_unions\n",
    "\n",
    "    def extract_(self, f):\n",
    "        try:    \n",
    "            image = imread(f)\n",
    "            mask = (image > 0.).astype(int)\n",
    "            features = self.feature_unions.transform([image,mask]).copy()\n",
    "            features = list_of_dict_to_dict(features)\n",
    "        except:\n",
    "            print(\"corrupted file\", f)\n",
    "            features = []\n",
    "        return features\n",
    "\n",
    "    def extract_features(self, metadata, n_jobs = -1):\n",
    "        file_list = metadata[\"file\"].tolist()\n",
    "        results = Parallel(n_jobs=n_jobs)(delayed(self.extract_)(f) \\\n",
    "            for f in tqdm(file_list, position=0, leave=True) )\n",
    "        return results\n",
    "\n",
    "    def get_image_mask(self, metadata, i = 0):\n",
    "        image = imread(metadata.loc[i,\"file\"])\n",
    "        mask = (image > 0.).astype(int)\n",
    "        return image, mask\n",
    "    \n",
    "feature_extractor = FeatureExtractor(pipeline)"
   ]
  },
  {
   "cell_type": "markdown",
   "metadata": {},
   "source": [
    "before running the feature extraction, lets look at a random sample (the 0th entry in the metadata dataframe)"
   ]
  },
  {
   "cell_type": "code",
   "execution_count": 10,
   "metadata": {},
   "outputs": [],
   "source": [
    "image, mask = feature_extractor.get_image_mask(metadata, 0)"
   ]
  },
  {
   "cell_type": "code",
   "execution_count": 11,
   "metadata": {},
   "outputs": [
    {
     "data": {
      "text/plain": [
       "(148, 112, 3)"
      ]
     },
     "execution_count": 11,
     "metadata": {},
     "output_type": "execute_result"
    }
   ],
   "source": [
    "image.shape"
   ]
  },
  {
   "cell_type": "code",
   "execution_count": 12,
   "metadata": {},
   "outputs": [
    {
     "data": {
      "text/plain": [
       "[]"
      ]
     },
     "execution_count": 12,
     "metadata": {},
     "output_type": "execute_result"
    },
    {
     "data": {
      "image/png": "[encoded data removed]",
      "text/plain": [
       "<Figure size 432x288 with 3 Axes>"
      ]
     },
     "metadata": {},
     "output_type": "display_data"
    }
   ],
   "source": [
    "sns.set_style(\"white\")\n",
    "fig, ax = plt.subplots(nrows = 1, \n",
    "                       ncols = 3, \n",
    "                       sharex = True, \n",
    "                       sharey = True)\n",
    "\n",
    "ax[0].imshow(image[:,:,0], cmap = \"Reds\")\n",
    "ax[0].set_xticks([])\n",
    "ax[0].set_yticks([])\n",
    "\n",
    "ax[1].imshow(image[:,:,1], cmap = \"Greens\")\n",
    "ax[1].set_xticks([])\n",
    "ax[1].set_yticks([])\n",
    "\n",
    "ax[2].imshow(image[:,:,2], cmap = \"Blues\")\n",
    "ax[2].set_xticks([])\n",
    "ax[2].set_yticks([])\n"
   ]
  },
  {
   "cell_type": "code",
   "execution_count": 13,
   "metadata": {},
   "outputs": [
    {
     "name": "stderr",
     "output_type": "stream",
     "text": [
      "100%|██████████| 10000/10000 [02:05<00:00, 79.90it/s]\n"
     ]
    }
   ],
   "source": [
    "\n",
    "list_of_features = feature_extractor.extract_features(metadata)"
   ]
  },
  {
   "cell_type": "markdown",
   "metadata": {},
   "source": [
    "lets create a dataframe with the metadata"
   ]
  },
  {
   "cell_type": "code",
   "execution_count": 14,
   "metadata": {},
   "outputs": [],
   "source": [
    "df_features = pd.DataFrame(list_of_features)"
   ]
  },
  {
   "cell_type": "code",
   "execution_count": 15,
   "metadata": {},
   "outputs": [
    {
     "data": {
      "text/html": [
       "<div>\n",
       "<style scoped>\n",
       "    .dataframe tbody tr th:only-of-type {\n",
       "        vertical-align: middle;\n",
       "    }\n",
       "\n",
       "    .dataframe tbody tr th {\n",
       "        vertical-align: top;\n",
       "    }\n",
       "\n",
       "    .dataframe thead th {\n",
       "        text-align: right;\n",
       "    }\n",
       "</style>\n",
       "<table border=\"1\" class=\"dataframe\">\n",
       "  <thead>\n",
       "    <tr style=\"text-align: right;\">\n",
       "      <th></th>\n",
       "      <th>mask_based_area_Ch1</th>\n",
       "      <th>mask_based_bbox_area_Ch1</th>\n",
       "      <th>mask_based_convex_area_Ch1</th>\n",
       "      <th>mask_based_eccentricity_Ch1</th>\n",
       "      <th>mask_based_equivalent_diameter_Ch1</th>\n",
       "      <th>mask_based_euler_number_Ch1</th>\n",
       "      <th>mask_based_extent_Ch1</th>\n",
       "      <th>mask_based_feret_diameter_max_Ch1</th>\n",
       "      <th>mask_based_filled_area_Ch1</th>\n",
       "      <th>mask_based_major_axis_length_Ch1</th>\n",
       "      <th>...</th>\n",
       "      <th>max_intensity_ratio_Ch2_R2_R3</th>\n",
       "      <th>sum_intensity_ratio_Ch3_R2_R3</th>\n",
       "      <th>mean_intensity_ratio_Ch3_R2_R3</th>\n",
       "      <th>max_intensity_ratio_Ch3_R2_R3</th>\n",
       "      <th>cell_distance_Ch1_Ch2</th>\n",
       "      <th>weighted_cell_distance_Ch1_Ch2</th>\n",
       "      <th>cell_distance_Ch1_Ch3</th>\n",
       "      <th>weighted_cell_distance_Ch1_Ch3</th>\n",
       "      <th>cell_distance_Ch2_Ch3</th>\n",
       "      <th>weighted_cell_distance_Ch2_Ch3</th>\n",
       "    </tr>\n",
       "  </thead>\n",
       "  <tbody>\n",
       "    <tr>\n",
       "      <th>0</th>\n",
       "      <td>10498</td>\n",
       "      <td>16576</td>\n",
       "      <td>11452</td>\n",
       "      <td>0.794012</td>\n",
       "      <td>115.613445</td>\n",
       "      <td>1</td>\n",
       "      <td>0.633325</td>\n",
       "      <td>153.574086</td>\n",
       "      <td>10498</td>\n",
       "      <td>151.271685</td>\n",
       "      <td>...</td>\n",
       "      <td>2.548695</td>\n",
       "      <td>1.0</td>\n",
       "      <td>1.0</td>\n",
       "      <td>1.873857</td>\n",
       "      <td>0.0</td>\n",
       "      <td>0.584849</td>\n",
       "      <td>0.0</td>\n",
       "      <td>0.199785</td>\n",
       "      <td>0.0</td>\n",
       "      <td>0.385149</td>\n",
       "    </tr>\n",
       "    <tr>\n",
       "      <th>1</th>\n",
       "      <td>18118</td>\n",
       "      <td>29452</td>\n",
       "      <td>21217</td>\n",
       "      <td>0.701441</td>\n",
       "      <td>151.883357</td>\n",
       "      <td>1</td>\n",
       "      <td>0.615170</td>\n",
       "      <td>207.562039</td>\n",
       "      <td>18118</td>\n",
       "      <td>183.792548</td>\n",
       "      <td>...</td>\n",
       "      <td>1.896361</td>\n",
       "      <td>1.0</td>\n",
       "      <td>1.0</td>\n",
       "      <td>1.772543</td>\n",
       "      <td>0.0</td>\n",
       "      <td>0.248694</td>\n",
       "      <td>0.0</td>\n",
       "      <td>0.038342</td>\n",
       "      <td>0.0</td>\n",
       "      <td>0.273442</td>\n",
       "    </tr>\n",
       "    <tr>\n",
       "      <th>2</th>\n",
       "      <td>12598</td>\n",
       "      <td>18070</td>\n",
       "      <td>13240</td>\n",
       "      <td>0.557568</td>\n",
       "      <td>126.650195</td>\n",
       "      <td>1</td>\n",
       "      <td>0.697178</td>\n",
       "      <td>141.410749</td>\n",
       "      <td>12598</td>\n",
       "      <td>140.409486</td>\n",
       "      <td>...</td>\n",
       "      <td>1.694753</td>\n",
       "      <td>1.0</td>\n",
       "      <td>1.0</td>\n",
       "      <td>1.592228</td>\n",
       "      <td>0.0</td>\n",
       "      <td>0.253493</td>\n",
       "      <td>0.0</td>\n",
       "      <td>0.094484</td>\n",
       "      <td>0.0</td>\n",
       "      <td>0.286123</td>\n",
       "    </tr>\n",
       "    <tr>\n",
       "      <th>3</th>\n",
       "      <td>14842</td>\n",
       "      <td>21016</td>\n",
       "      <td>15571</td>\n",
       "      <td>0.367834</td>\n",
       "      <td>137.467892</td>\n",
       "      <td>1</td>\n",
       "      <td>0.706224</td>\n",
       "      <td>150.814456</td>\n",
       "      <td>14842</td>\n",
       "      <td>143.032969</td>\n",
       "      <td>...</td>\n",
       "      <td>1.588470</td>\n",
       "      <td>1.0</td>\n",
       "      <td>1.0</td>\n",
       "      <td>1.520238</td>\n",
       "      <td>0.0</td>\n",
       "      <td>0.054781</td>\n",
       "      <td>0.0</td>\n",
       "      <td>0.150625</td>\n",
       "      <td>0.0</td>\n",
       "      <td>0.095846</td>\n",
       "    </tr>\n",
       "    <tr>\n",
       "      <th>4</th>\n",
       "      <td>12001</td>\n",
       "      <td>16093</td>\n",
       "      <td>12790</td>\n",
       "      <td>0.618424</td>\n",
       "      <td>123.612895</td>\n",
       "      <td>1</td>\n",
       "      <td>0.745728</td>\n",
       "      <td>145.715476</td>\n",
       "      <td>12001</td>\n",
       "      <td>140.817985</td>\n",
       "      <td>...</td>\n",
       "      <td>1.785775</td>\n",
       "      <td>1.0</td>\n",
       "      <td>1.0</td>\n",
       "      <td>1.551371</td>\n",
       "      <td>0.0</td>\n",
       "      <td>0.673717</td>\n",
       "      <td>0.0</td>\n",
       "      <td>0.210122</td>\n",
       "      <td>0.0</td>\n",
       "      <td>0.466642</td>\n",
       "    </tr>\n",
       "  </tbody>\n",
       "</table>\n",
       "<p>5 rows × 249 columns</p>\n",
       "</div>"
      ],
      "text/plain": [
       "   mask_based_area_Ch1  mask_based_bbox_area_Ch1  mask_based_convex_area_Ch1  \\\n",
       "0                10498                     16576                       11452   \n",
       "1                18118                     29452                       21217   \n",
       "2                12598                     18070                       13240   \n",
       "3                14842                     21016                       15571   \n",
       "4                12001                     16093                       12790   \n",
       "\n",
       "   mask_based_eccentricity_Ch1  mask_based_equivalent_diameter_Ch1  \\\n",
       "0                     0.794012                          115.613445   \n",
       "1                     0.701441                          151.883357   \n",
       "2                     0.557568                          126.650195   \n",
       "3                     0.367834                          137.467892   \n",
       "4                     0.618424                          123.612895   \n",
       "\n",
       "   mask_based_euler_number_Ch1  mask_based_extent_Ch1  \\\n",
       "0                            1               0.633325   \n",
       "1                            1               0.615170   \n",
       "2                            1               0.697178   \n",
       "3                            1               0.706224   \n",
       "4                            1               0.745728   \n",
       "\n",
       "   mask_based_feret_diameter_max_Ch1  mask_based_filled_area_Ch1  \\\n",
       "0                         153.574086                       10498   \n",
       "1                         207.562039                       18118   \n",
       "2                         141.410749                       12598   \n",
       "3                         150.814456                       14842   \n",
       "4                         145.715476                       12001   \n",
       "\n",
       "   mask_based_major_axis_length_Ch1  ...  max_intensity_ratio_Ch2_R2_R3  \\\n",
       "0                        151.271685  ...                       2.548695   \n",
       "1                        183.792548  ...                       1.896361   \n",
       "2                        140.409486  ...                       1.694753   \n",
       "3                        143.032969  ...                       1.588470   \n",
       "4                        140.817985  ...                       1.785775   \n",
       "\n",
       "   sum_intensity_ratio_Ch3_R2_R3  mean_intensity_ratio_Ch3_R2_R3  \\\n",
       "0                            1.0                             1.0   \n",
       "1                            1.0                             1.0   \n",
       "2                            1.0                             1.0   \n",
       "3                            1.0                             1.0   \n",
       "4                            1.0                             1.0   \n",
       "\n",
       "   max_intensity_ratio_Ch3_R2_R3  cell_distance_Ch1_Ch2  \\\n",
       "0                       1.873857                    0.0   \n",
       "1                       1.772543                    0.0   \n",
       "2                       1.592228                    0.0   \n",
       "3                       1.520238                    0.0   \n",
       "4                       1.551371                    0.0   \n",
       "\n",
       "   weighted_cell_distance_Ch1_Ch2  cell_distance_Ch1_Ch3  \\\n",
       "0                        0.584849                    0.0   \n",
       "1                        0.248694                    0.0   \n",
       "2                        0.253493                    0.0   \n",
       "3                        0.054781                    0.0   \n",
       "4                        0.673717                    0.0   \n",
       "\n",
       "   weighted_cell_distance_Ch1_Ch3  cell_distance_Ch2_Ch3  \\\n",
       "0                        0.199785                    0.0   \n",
       "1                        0.038342                    0.0   \n",
       "2                        0.094484                    0.0   \n",
       "3                        0.150625                    0.0   \n",
       "4                        0.210122                    0.0   \n",
       "\n",
       "   weighted_cell_distance_Ch2_Ch3  \n",
       "0                        0.385149  \n",
       "1                        0.273442  \n",
       "2                        0.286123  \n",
       "3                        0.095846  \n",
       "4                        0.466642  \n",
       "\n",
       "[5 rows x 249 columns]"
      ]
     },
     "execution_count": 15,
     "metadata": {},
     "output_type": "execute_result"
    }
   ],
   "source": [
    "df_features.head()"
   ]
  },
  {
   "cell_type": "markdown",
   "metadata": {},
   "source": [
    "after creating the features, we impute empty values with 0. and delete features with no variance. After that, we name the features correctly based on their real name"
   ]
  },
  {
   "cell_type": "code",
   "execution_count": 16,
   "metadata": {},
   "outputs": [],
   "source": [
    "df_features = df_features.fillna(0.)\n",
    "df_features = df_features.loc[:, df_features.std() > 0.]"
   ]
  },
  {
   "cell_type": "code",
   "execution_count": 17,
   "metadata": {},
   "outputs": [],
   "source": [
    "column_dict_rename = dict()\n",
    "\n",
    "channel_names = {   \n",
    "         \"Ch1\": \"R\",\n",
    "         \"Ch2\": \"G\",\n",
    "         \"Ch2\": \"B\",}\n",
    "\n",
    "for col in df_features.columns:\n",
    "    new_col = col\n",
    "    for ch in channel_names:\n",
    "        new_col = new_col.replace(ch,channel_names[ch] )\n",
    "    column_dict_rename[col] = new_col\n",
    "    \n",
    "df_features = df_features.rename(columns=column_dict_rename).copy()"
   ]
  },
  {
   "cell_type": "markdown",
   "metadata": {},
   "source": [
    "let's create a train, validation and test set. We simply use the indexes, as it is easier to use it with sklearn pipelines"
   ]
  },
  {
   "cell_type": "code",
   "execution_count": 19,
   "metadata": {},
   "outputs": [],
   "source": [
    "from scifAI.dl.utils import train_validation_test_split\n",
    "\n",
    "\n",
    "train_index, validation_index, test_index = train_validation_test_split(metadata.index, \n",
    "                                                                        metadata.loc[:,\"label\"],\n",
    "                                                                        validation_size=0.20, \n",
    "                                                                        test_size=0.30)\n",
    "\n",
    "\n"
   ]
  },
  {
   "cell_type": "markdown",
   "metadata": {},
   "source": [
    "lets train an XGBoost model on the data. we also use a feature selection before the classifiation to reduce the dimensionality"
   ]
  },
  {
   "cell_type": "code",
   "execution_count": 40,
   "metadata": {},
   "outputs": [
    {
     "name": "stdout",
     "output_type": "stream",
     "text": [
      "[Pipeline] .... (step 1 of 3) Processing StandardScaler, total=   0.0s\n",
      "Step 1: Find highly correlated features\n",
      "Step 2: wrapper methods\n",
      "Calculating mutual information\n",
      "Calculating SVC\n",
      "Calculating random forest\n",
      "Calculating l1 logistic regression\n",
      "Calculating l2 logistic regression\n",
      "Calculating xgb\n",
      "number of similar features among all the methods: 4\n",
      "From 227 initial features Selected (multicolinear): 126\n",
      "Step 3: clustering over correlation of features\n",
      "From 227 initial features Selected (uncorrelated): 50\n",
      "[Pipeline]  (step 2 of 3) Processing AutoFeatureSelection, total=  20.9s\n",
      "[Pipeline] ............... (step 3 of 3) Processing xgb, total=   7.6s\n"
     ]
    },
    {
     "data": {
      "text/plain": [
       "Pipeline(steps=[('StandardScaler', StandardScaler()),\n",
       "                ('AutoFeatureSelection',\n",
       "                 AutoFeatureSelection(top_k=50, verbose=True)),\n",
       "                ('xgb',\n",
       "                 XGBClassifier(base_score=0.5, booster='gbtree',\n",
       "                               colsample_bylevel=1, colsample_bynode=1,\n",
       "                               colsample_bytree=1, enable_categorical=False,\n",
       "                               eval_metric='logloss', gamma=0, gpu_id=-1,\n",
       "                               importance_type=None, interaction_constraints='',\n",
       "                               learning_rate=0.300000012, max_delta_step=0,\n",
       "                               max_depth=6, min_child_weight=1, missing=nan,\n",
       "                               monotone_constraints='()', n_estimators=1000,\n",
       "                               n_jobs=-1, num_parallel_tree=1, predictor='auto',\n",
       "                               random_state=0, reg_alpha=0, reg_lambda=1,\n",
       "                               scale_pos_weight=1, subsample=1,\n",
       "                               tree_method='exact', validate_parameters=1,\n",
       "                               verbosity=None))],\n",
       "         verbose=True)"
      ]
     },
     "execution_count": 40,
     "metadata": {},
     "output_type": "execute_result"
    }
   ],
   "source": [
    "from sklearn import manifold, datasets\n",
    "from sklearn import decomposition\n",
    "from umap import UMAP\n",
    "from sklearn.cluster import KMeans\n",
    "from sklearn.linear_model import LinearRegression,RidgeCV,PoissonRegressor\n",
    "from sklearn.ensemble import RandomForestRegressor\n",
    "from sklearn.pipeline import Pipeline\n",
    "from sklearn.preprocessing import StandardScaler, MinMaxScaler, RobustScaler\n",
    "from sklearn.feature_selection import mutual_info_regression\n",
    "from sklearn.metrics import r2_score, median_absolute_error\n",
    "from sklearn.feature_selection import f_regression\n",
    "from sklearn.feature_selection import SelectKBest\n",
    "from sklearn.model_selection import train_test_split\n",
    "from xgboost import XGBRegressor\n",
    "from sklearn.svm import LinearSVR\n",
    "\n",
    "xgb = Pipeline([\n",
    "                ('StandardScaler', StandardScaler()), \n",
    "                ('AutoFeatureSelection', AutoFeatureSelection( top_k = 50 ,verbose=True)),\n",
    "                 ('xgb', XGBClassifier(n_jobs = -1, n_estimators = 1000, eval_metric = \"logloss\") )\n",
    "], verbose=True)\n",
    "\n",
    "xgb.fit(df_features.loc[train_index.tolist() + validation_index.tolist(), :],  \n",
    "       metadata.loc[train_index.tolist() + validation_index.tolist(), \"label\"] )"
   ]
  },
  {
   "cell_type": "code",
   "execution_count": 41,
   "metadata": {},
   "outputs": [
    {
     "name": "stdout",
     "output_type": "stream",
     "text": [
      "              precision    recall  f1-score   support\n",
      "\n",
      " Parasitized       0.97      0.96      0.97      1505\n",
      "  Uninfected       0.96      0.97      0.97      1495\n",
      "\n",
      "    accuracy                           0.97      3000\n",
      "   macro avg       0.97      0.97      0.97      3000\n",
      "weighted avg       0.97      0.97      0.97      3000\n",
      "\n",
      "                   pre       rec       spe        f1       geo       iba       sup\n",
      "\n",
      "Parasitized       0.97      0.96      0.97      0.97      0.97      0.93      1505\n",
      " Uninfected       0.96      0.97      0.96      0.97      0.97      0.93      1495\n",
      "\n",
      "avg / total       0.97      0.97      0.97      0.97      0.97      0.93      3000\n",
      "\n",
      "------------------------------------------------------------\n",
      "matthews correlation coeff: 0.93\n",
      "Cohen Kappa score: 0.93\n",
      "Cohen Kappa score: 0.93\n",
      "Accuracy: 0.97 & balanced Accuracy: 0.97\n",
      "macro F1 score: 0.97 & micro F1 score: 0.97\n",
      "macro Precision score: 0.97 & micro Precision score: 0.97\n",
      "macro Recall score: 0.97 & micro Recall score: 0.97\n",
      "------------------------------------------------------------\n"
     ]
    },
    {
     "data": {
      "image/png": "[encoded data removed]",
      "text/plain": [
       "<Figure size 432x288 with 2 Axes>"
      ]
     },
     "metadata": {},
     "output_type": "display_data"
    }
   ],
   "source": [
    "sns.set_style(\"white\")\n",
    "sns.set(font_scale = 1.1)\n",
    "\n",
    "sns.set_style(\"ticks\")\n",
    "classification_complete_report(xgb, \n",
    "                               df_features.loc[test_index, :],\n",
    "                               metadata.loc[test_index, \"label\"])"
   ]
  },
  {
   "cell_type": "markdown",
   "metadata": {},
   "source": [
    "the classifier reached macro f1 of 0.72 which is comparable with the main publication. We can also look at the 50 preselected feautres using scifAI"
   ]
  },
  {
   "cell_type": "code",
   "execution_count": 42,
   "metadata": {},
   "outputs": [
    {
     "data": {
      "text/plain": [
       "Index(['mask_based_extent_R', 'mask_based_feret_diameter_max_R',\n",
       "       'mask_based_max_intensity_R', 'mask_based_min_intensity_R',\n",
       "       'mask_based_moments_hu-3_R', 'mask_based_moments_hu-4_R',\n",
       "       'mask_based_moments_hu-6_R', 'mask_based_solidity_R',\n",
       "       'mask_based_weighted_moments_hu-1_R', 'mask_based_euler_number_B',\n",
       "       'mask_based_max_intensity_B', 'mask_based_mean_intensity_B',\n",
       "       'mask_based_min_intensity_B', 'mask_based_weighted_moments_hu-3_B',\n",
       "       'mask_based_max_intensity_Ch3', 'mask_based_mean_intensity_Ch3',\n",
       "       'mask_based_min_intensity_Ch3', 'dissimilarity_R', 'contrast_B',\n",
       "       'homogeneity_B', 'correlation_Ch3', 'gradient_RMS_B',\n",
       "       'gradient_RMS_Ch3', 'percentile_30_R', 'percentile_40_R',\n",
       "       'percentile_60_R', 'percentile_20_B', 'percentile_30_B',\n",
       "       'percentile_90_B', 'sum_intensity_R', 'std_intensity_R',\n",
       "       'kurtosis_intensity_R', 'skew_intensity_R', 'sum_intensity_B',\n",
       "       'std_intensity_B', 'shannon_entropy_B', 'std_intensity_Ch3',\n",
       "       'correlation_distance_R1_R_R2_B', 'euclidean_distance_R1_R_R2_B',\n",
       "       'intensity_correlation_quotient_R1_R_R2_B',\n",
       "       'correlation_distance_R1_R_R3_Ch3', 'euclidean_distance_R1_R_R3_Ch3',\n",
       "       'manders_overlap_coefficient_R1_R_R3_Ch3',\n",
       "       'euclidean_distance_R2_B_R3_Ch3',\n",
       "       'manders_overlap_coefficient_R2_B_R3_Ch3',\n",
       "       'mean_intensity_ratio_R_R1_R2', 'mean_intensity_ratio_B_R1_R2',\n",
       "       'max_intensity_ratio_B_R1_R2', 'max_intensity_ratio_Ch3_R1_R2',\n",
       "       'weighted_cell_distance_R_B'],\n",
       "      dtype='object')"
      ]
     },
     "execution_count": 42,
     "metadata": {},
     "output_type": "execute_result"
    }
   ],
   "source": [
    "selected_features = xgb.steps[1][1].selected_features\n",
    "selected_feature_names = df_features.columns[selected_features]\n",
    "selected_feature_names"
   ]
  },
  {
   "cell_type": "markdown",
   "metadata": {},
   "source": [
    "Finally, the most important features based on the Gini-index and Permutation importance are:"
   ]
  },
  {
   "cell_type": "code",
   "execution_count": 43,
   "metadata": {},
   "outputs": [
    {
     "data": {
      "image/png": "[encoded data removed]",
      "text/plain": [
       "<Figure size 1080x576 with 2 Axes>"
      ]
     },
     "metadata": {},
     "output_type": "display_data"
    }
   ],
   "source": [
    "sns.set_style( \"whitegrid\" )\n",
    "\n",
    "from sklearn.inspection import permutation_importance\n",
    "\n",
    "fig, (ax1, ax2) = plt.subplots(1, 2, figsize=(15, 8))\n",
    "\n",
    "tree_importance_sorted_idx = np.argsort(xgb.steps[2][1].feature_importances_)[-10:]\n",
    "\n",
    "tree_indices = np.arange(0, 10) + 0.5\n",
    "\n",
    "ax1.barh(tree_indices, \n",
    "         xgb.steps[2][1].feature_importances_[tree_importance_sorted_idx], \n",
    "         height=0.7, color  = \"grey\")\n",
    "ax1.set_yticklabels(df_features.columns[selected_features].values[tree_importance_sorted_idx])\n",
    "ax1.set_yticks(tree_indices)\n",
    "\n",
    "\n",
    "result = permutation_importance(xgb, \n",
    "                                df_features.loc[test_index, :],\n",
    "                                metadata.loc[test_index, \"label\"], \n",
    "                                n_repeats=10,\n",
    "                                random_state=42)\n",
    "perm_sorted_idx = result.importances_mean.argsort()[-10:]\n",
    "ax2.boxplot(result.importances[perm_sorted_idx].T, \n",
    "            vert=False,\n",
    "            labels=df_features.columns.values[perm_sorted_idx])\n",
    "\n",
    "fig.tight_layout()"
   ]
  },
  {
   "cell_type": "code",
   "execution_count": null,
   "metadata": {},
   "outputs": [],
   "source": []
  }
 ],
 "metadata": {
  "kernelspec": {
   "display_name": "Python 3",
   "language": "python",
   "name": "python3"
  },
  "language_info": {
   "codemirror_mode": {
    "name": "ipython",
    "version": 3
   },
   "file_extension": ".py",
   "mimetype": "text/x-python",
   "name": "python",
   "nbconvert_exporter": "python",
   "pygments_lexer": "ipython3",
   "version": "3.8.3"
  },
  "vscode": {
   "interpreter": {
    "hash": "dc85c72049d21f557e30689d2619ffc4ab3f684c40ae26d281fe4539bf4644b2"
   }
  }
 },
 "nbformat": 4,
 "nbformat_minor": 5
}
