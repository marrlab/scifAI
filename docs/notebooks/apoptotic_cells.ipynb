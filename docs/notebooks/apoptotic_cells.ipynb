{
 "cells": [
  {
   "cell_type": "code",
   "execution_count": 1,
   "id": "84089d04",
   "metadata": {},
   "outputs": [],
   "source": [
    "#!pip install /pstore/home/shetabs1/code/scifai/"
   ]
  },
  {
   "cell_type": "code",
   "execution_count": 2,
   "id": "cab93ccf",
   "metadata": {},
   "outputs": [],
   "source": [
    "import scifai\n",
    "import matplotlib.pyplot as plt\n",
    "import scifai.ml.features as features\n",
    "from scifai.ml.feature_selection import AutoFeatureSelection\n",
    "from scifai.ml.feature_extractor import AmnisData\n",
    "from scifai.ml.segmentation import segment_all_channels\n",
    "import numpy as np\n",
    "import pandas as pd\n",
    "import glob\n",
    "import warnings\n",
    "warnings.filterwarnings(\"ignore\")\n",
    "from tqdm import tqdm \n",
    "from sklearn.model_selection import train_test_split\n",
    "import h5py\n",
    "from sklearn.pipeline import Pipeline, FeatureUnion\n",
    "from sklearn.feature_extraction import DictVectorizer\n",
    "from scifai.utils import list_of_dict_to_dict\n",
    "from sklearn.preprocessing import MinMaxScaler \n",
    "from sklearn.ensemble import RandomForestClassifier\n",
    "from sklearn.model_selection import GridSearchCV\n",
    "from xgboost import XGBClassifier\n",
    "import seaborn as sns\n"
   ]
  },
  {
   "cell_type": "code",
   "execution_count": null,
   "id": "7f253ed4",
   "metadata": {},
   "outputs": [],
   "source": []
  },
  {
   "cell_type": "code",
   "execution_count": 4,
   "id": "aaad3773",
   "metadata": {},
   "outputs": [],
   "source": [
    "from sklearn.metrics import (plot_confusion_matrix, \n",
    "                             matthews_corrcoef, \n",
    "                             classification_report,\n",
    "                             confusion_matrix, \n",
    "                             accuracy_score, \n",
    "                             balanced_accuracy_score, \n",
    "                             cohen_kappa_score, \n",
    "                             f1_score,  \n",
    "                             precision_score, recall_score)\n",
    "from imblearn.metrics import classification_report_imbalanced\n",
    "\n",
    "def classification_complete_report(estimator, X, y_true, plot = True ): \n",
    "    y_pred = estimator.predict(X)\n",
    "    print(classification_report(y_true, y_pred))\n",
    "    print(classification_report_imbalanced(y_true, y_pred))\n",
    "    print(15*\"----\")\n",
    "    print(\"matthews correlation coeff: %.4f\" % (matthews_corrcoef(y_true, y_pred)) )\n",
    "    print(\"Cohen Kappa score: %.4f\" % (cohen_kappa_score(y_true, y_pred)) )\n",
    "    print(\"Cohen Kappa score: %.4f\" % (cohen_kappa_score(y_true, y_pred)) )\n",
    "    print(\"Accuracy: %.4f & balanced Accuracy: %.4f\" % (accuracy_score(y_true, y_pred), balanced_accuracy_score(y_true, y_pred)) )\n",
    "    print(\"macro F1 score: %.4f & micro F1 score: %.4f\" % (f1_score(y_true, y_pred, average = \"macro\"), f1_score(y_true, y_pred, average = \"micro\")) )\n",
    "    print(\"macro Precision score: %.4f & micro Precision score: %.4f\" % (precision_score(y_true, y_pred, average = \"macro\"), precision_score(y_true, y_pred, average = \"micro\")) )\n",
    "    print(\"macro Recall score: %.4f & micro Recall score: %.4f\" % (recall_score(y_true, y_pred, average = \"macro\"), recall_score(y_true, y_pred, average = \"micro\")) )\n",
    "    print(15*\"----\")\n",
    "    \n",
    "    if plot:\n",
    "        plot_confusion_matrix(estimator, X, y_true,cmap = \"Greys\", xticks_rotation='vertical')\n",
    "    "
   ]
  },
  {
   "cell_type": "code",
   "execution_count": 5,
   "id": "b6ac46f6",
   "metadata": {},
   "outputs": [],
   "source": [
    "data_path = \"/pstore/data/DS4/Cell_Cycle_Reconstruction/\"\n",
    "\n",
    "feature_extractor = FeatureUnion([\n",
    "                                (\"MaskBasedFeatures\", features.MaskBasedFeatures()), \n",
    "                                (\"GLCMFeatures\", features.GLCMFeatures()),  \n",
    "                                (\"GradientRMS\", features.GradientRMS()),  \n",
    "                                (\"BackgroundMean\", features.BackgroundMean()),  \n",
    "                                (\"CellShape\", features.CellShape()),  \n",
    "                                (\"Collocalization\", features.Collocalization())\n",
    "                                     ],\n",
    "                                n_jobs = -1)"
   ]
  },
  {
   "cell_type": "code",
   "execution_count": null,
   "id": "f7316130",
   "metadata": {},
   "outputs": [],
   "source": []
  },
  {
   "cell_type": "code",
   "execution_count": 6,
   "id": "52a3d652",
   "metadata": {
    "scrolled": true
   },
   "outputs": [
    {
     "name": "stderr",
     "output_type": "stream",
     "text": [
      "  0%|          | 0/32266 [00:00<?, ?it/s]"
     ]
    },
    {
     "name": "stdout",
     "output_type": "stream",
     "text": [
      "CPU times: user 4 µs, sys: 5 µs, total: 9 µs\n",
      "Wall time: 17.9 µs\n",
      "Metadata prepration starts...\n",
      "Experiment_1 Donor_1 condition_1\n"
     ]
    },
    {
     "name": "stderr",
     "output_type": "stream",
     "text": [
      "100%|██████████| 32266/32266 [00:21<00:00, 1482.08it/s]\n"
     ]
    },
    {
     "name": "stdout",
     "output_type": "stream",
     "text": [
      "...metadata prepration ended.\n"
     ]
    }
   ],
   "source": [
    "%time\n",
    "\n",
    "amnis_data = AmnisData(data_path, feature_extractor)"
   ]
  },
  {
   "cell_type": "code",
   "execution_count": 7,
   "id": "03282798",
   "metadata": {},
   "outputs": [
    {
     "name": "stderr",
     "output_type": "stream",
     "text": [
      "100%|██████████| 32266/32266 [15:27<00:00, 34.77it/s]\n"
     ]
    }
   ],
   "source": [
    "amnis_data.extract_features_for_all_samples()"
   ]
  },
  {
   "cell_type": "code",
   "execution_count": null,
   "id": "993b095d",
   "metadata": {},
   "outputs": [],
   "source": []
  },
  {
   "cell_type": "code",
   "execution_count": null,
   "id": "277814c5",
   "metadata": {},
   "outputs": [],
   "source": []
  },
  {
   "cell_type": "code",
   "execution_count": 8,
   "id": "912932da",
   "metadata": {},
   "outputs": [],
   "source": [
    "amnis_data.df_features = amnis_data.df_features.fillna(0.)\n",
    "amnis_data.df_features = amnis_data.df_features.loc[:, amnis_data.df_features.std() > 0.]"
   ]
  },
  {
   "cell_type": "code",
   "execution_count": 9,
   "id": "9402ef75",
   "metadata": {},
   "outputs": [
    {
     "data": {
      "text/plain": [
       "0.044140016"
      ]
     },
     "execution_count": 9,
     "metadata": {},
     "output_type": "execute_result"
    }
   ],
   "source": [
    "amnis_data.df_features.memory_usage(index=True).sum()/1e9"
   ]
  },
  {
   "cell_type": "code",
   "execution_count": 10,
   "id": "5102baf0",
   "metadata": {},
   "outputs": [],
   "source": [
    "index_train , index_test = train_test_split(amnis_data.metadata.index, stratify = amnis_data.metadata[\"label\"])"
   ]
  },
  {
   "cell_type": "code",
   "execution_count": null,
   "id": "efc562b7",
   "metadata": {},
   "outputs": [],
   "source": []
  },
  {
   "cell_type": "code",
   "execution_count": 21,
   "id": "595b90bd",
   "metadata": {},
   "outputs": [
    {
     "name": "stdout",
     "output_type": "stream",
     "text": [
      "[Pipeline] ...... (step 1 of 4) Processing MinMaxScaler, total=   0.1s\n",
      "Step 1: drop highly correlated features\n",
      "From 171 initial features Selected (correlated): 169\n",
      "Step 2: wrapper methods\n",
      "Calculating SVC\n",
      "Calculating random forest\n",
      "Calculating l1 logistic regression\n",
      "Calculating l2 logistic\n",
      "Calculating xgb\n",
      "From 171 initial features Selected (multicolinear): 51\n",
      "Step 3: clustering over correlation of features\n",
      "From 171 initial features Selected (uncorrelated): 16\n",
      "[Pipeline]  (step 2 of 4) Processing AutoFeatureSelection, total= 6.7min\n",
      "[Pipeline] ............. (step 3 of 4) Processing SMOTE, total=   2.6s\n",
      "[Pipeline]  (step 4 of 4) Processing RandomForestClassifier, total=   1.5s\n"
     ]
    },
    {
     "data": {
      "text/plain": [
       "Pipeline(steps=[('MinMaxScaler', MinMaxScaler()),\n",
       "                ('AutoFeatureSelection',\n",
       "                 AutoFeatureSelection(top_k=10, verbose=True)),\n",
       "                ('SMOTE', SMOTE(n_jobs=-1)),\n",
       "                ('RandomForestClassifier', RandomForestClassifier(n_jobs=-1))],\n",
       "         verbose=True)"
      ]
     },
     "execution_count": 21,
     "metadata": {},
     "output_type": "execute_result"
    }
   ],
   "source": [
    "from sklearn.model_selection import GridSearchCV\n",
    "from imblearn.over_sampling import RandomOverSampler,ADASYN, SMOTE\n",
    "from imblearn.under_sampling import RandomUnderSampler\n",
    "from imblearn.pipeline import Pipeline\n",
    "\n",
    "pipeline = Pipeline( steps = [\n",
    "            (\"MinMaxScaler\",MinMaxScaler()),\n",
    "            (\"AutoFeatureSelection\",AutoFeatureSelection(top_k = 10,verbose=True)),\n",
    "            (\"SMOTE\",SMOTE(n_jobs = -1)),\n",
    "            (\"RandomForestClassifier\",RandomForestClassifier(n_jobs = -1 ) )\n",
    "] ,verbose=True )\n",
    "                            \n",
    "pipeline.fit(amnis_data.df_features.loc[index_train,:],  \n",
    "             amnis_data.metadata.loc[index_train, \"label\"])"
   ]
  },
  {
   "cell_type": "code",
   "execution_count": 22,
   "id": "a01158ea",
   "metadata": {},
   "outputs": [],
   "source": [
    "selected_features = pipeline.steps[1][1].selected_features\n",
    "selected_feature_names = amnis_data.df_features.columns[selected_features]"
   ]
  },
  {
   "cell_type": "code",
   "execution_count": 23,
   "id": "fa6d7102",
   "metadata": {},
   "outputs": [
    {
     "name": "stdout",
     "output_type": "stream",
     "text": [
      "              precision    recall  f1-score   support\n",
      "\n",
      "    Anaphase       0.00      0.00      0.00         4\n",
      "          G1       0.84      0.85      0.84      3583\n",
      "          G2       0.75      0.74      0.74      2150\n",
      "   Metaphase       0.09      0.06      0.07        17\n",
      "    Prophase       0.35      0.35      0.35       152\n",
      "           S       0.57      0.58      0.58      2154\n",
      "   Telophase       0.00      0.00      0.00         7\n",
      "\n",
      "    accuracy                           0.73      8067\n",
      "   macro avg       0.37      0.37      0.37      8067\n",
      "weighted avg       0.73      0.73      0.73      8067\n",
      "\n",
      "                   pre       rec       spe        f1       geo       iba       sup\n",
      "\n",
      "   Anaphase       0.00      0.00      1.00      0.00      0.00      0.00         4\n",
      "         G1       0.84      0.85      0.87      0.84      0.86      0.74      3583\n",
      "         G2       0.75      0.74      0.91      0.74      0.82      0.66      2150\n",
      "  Metaphase       0.09      0.06      1.00      0.07      0.24      0.05        17\n",
      "   Prophase       0.35      0.35      0.99      0.35      0.59      0.32       152\n",
      "          S       0.57      0.58      0.84      0.58      0.70      0.47      2154\n",
      "  Telophase       0.00      0.00      1.00      0.00      0.00      0.00         7\n",
      "\n",
      "avg / total       0.73      0.73      0.88      0.73      0.80      0.64      8067\n",
      "\n",
      "------------------------------------------------------------\n",
      "matthews correlation coeff: 0.5964\n",
      "Cohen Kappa score: 0.5964\n",
      "Cohen Kappa score: 0.5964\n",
      "Accuracy: 0.7341 & balanced Accuracy: 0.3673\n",
      "macro F1 score: 0.3688 & micro F1 score: 0.7341\n",
      "macro Precision score: 0.3714 & micro Precision score: 0.7341\n",
      "macro Recall score: 0.3673 & micro Recall score: 0.7341\n",
      "------------------------------------------------------------\n"
     ]
    },
    {
     "data": {
      "image/png": "[encoded data removed]",
      "text/plain": [
       "<Figure size 432x288 with 2 Axes>"
      ]
     },
     "metadata": {
      "needs_background": "light"
     },
     "output_type": "display_data"
    }
   ],
   "source": [
    "classification_complete_report(pipeline, \n",
    "                               amnis_data.df_features.loc[index_test,:], \n",
    "                               amnis_data.metadata.loc[index_test, \"label\"])"
   ]
  },
  {
   "cell_type": "code",
   "execution_count": null,
   "id": "bda34b0b",
   "metadata": {},
   "outputs": [],
   "source": []
  },
  {
   "cell_type": "code",
   "execution_count": null,
   "id": "828583bc",
   "metadata": {},
   "outputs": [],
   "source": []
  },
  {
   "cell_type": "code",
   "execution_count": 24,
   "id": "d252e7ac",
   "metadata": {},
   "outputs": [
    {
     "data": {
      "image/png": "[encoded data removed]",
      "text/plain": [
       "<Figure size 1080x576 with 2 Axes>"
      ]
     },
     "metadata": {
      "needs_background": "light"
     },
     "output_type": "display_data"
    }
   ],
   "source": [
    "\n",
    "from sklearn.inspection import permutation_importance\n",
    "\n",
    "\n",
    "\n",
    "\n",
    "fig, (ax1, ax2) = plt.subplots(1, 2, figsize=(15, 8))\n",
    "\n",
    "tree_importance_sorted_idx = np.argsort(pipeline.steps[3][1].feature_importances_)[-10:]\n",
    "\n",
    "tree_indices = np.arange(0, 10) + 0.5\n",
    "\n",
    "ax1.barh(tree_indices, \n",
    "         pipeline.steps[3][1].feature_importances_[tree_importance_sorted_idx], \n",
    "         height=0.7, color  = \"grey\")\n",
    "ax1.set_yticklabels(amnis_data.df_features.columns[selected_features].values[tree_importance_sorted_idx])\n",
    "ax1.set_yticks(tree_indices)\n",
    "\n",
    "\n",
    "result = permutation_importance(pipeline, \n",
    "                                amnis_data.df_features.loc[index_test,:],  \n",
    "                                amnis_data.metadata.loc[index_test, \"label\"], n_repeats=10,\n",
    "                                random_state=42)\n",
    "perm_sorted_idx = result.importances_mean.argsort()[-10:]\n",
    "ax2.boxplot(result.importances[perm_sorted_idx].T, \n",
    "            vert=False,\n",
    "            labels=amnis_data.df_features.columns.values[perm_sorted_idx])\n",
    "\n",
    "fig.tight_layout()"
   ]
  },
  {
   "cell_type": "code",
   "execution_count": null,
   "id": "0ec3feb0",
   "metadata": {},
   "outputs": [],
   "source": []
  },
  {
   "cell_type": "code",
   "execution_count": 25,
   "id": "48d62ec7",
   "metadata": {},
   "outputs": [],
   "source": [
    "\n",
    "channel_importance_xgb = {\"Ch1\" : 0., \"Ch2\" : 0., \"Ch3\": 0.}\n",
    "\n",
    "for i,f in enumerate(selected_feature_names):\n",
    "    value = pipeline.steps[3][1].feature_importances_[i]\n",
    "    if \"Ch1\" in f:\n",
    "        channel_importance_xgb[\"Ch1\"] = channel_importance_xgb[\"Ch1\"] + value\n",
    "    elif \"Ch2\" in f:\n",
    "        channel_importance_xgb[\"Ch2\"] = channel_importance_xgb[\"Ch2\"] + value\n",
    "    elif \"Ch3\" in f:\n",
    "        channel_importance_xgb[\"Ch3\"] = channel_importance_xgb[\"Ch3\"] + value\n",
    "\n",
    "\n",
    "channel_importance_permutation = {\"Ch1\" : 0., \"Ch2\" : 0., \"Ch3\": 0.}\n",
    "\n",
    "for i,f in enumerate(amnis_data.df_features.columns):\n",
    "    value = result['importances_mean'][i]\n",
    "    if \"Ch1\" in f:\n",
    "        channel_importance_permutation[\"Ch1\"] = channel_importance_permutation[\"Ch1\"] + value\n",
    "    elif \"Ch2\" in f:\n",
    "        channel_importance_permutation[\"Ch2\"] = channel_importance_permutation[\"Ch2\"] + value\n",
    "    elif \"Ch3\" in f:\n",
    "        channel_importance_permutation[\"Ch3\"] = channel_importance_permutation[\"Ch3\"] + value\n"
   ]
  },
  {
   "cell_type": "code",
   "execution_count": 26,
   "id": "2d4c6ebd",
   "metadata": {},
   "outputs": [
    {
     "data": {
      "text/plain": [
       "Text(0.5, 1.0, 'Channel importance')"
      ]
     },
     "execution_count": 26,
     "metadata": {},
     "output_type": "execute_result"
    },
    {
     "data": {
      "image/png": "[encoded data removed]",
      "text/plain": [
       "<Figure size 432x288 with 1 Axes>"
      ]
     },
     "metadata": {
      "needs_background": "light"
     },
     "output_type": "display_data"
    }
   ],
   "source": [
    "plt.bar([\"BF\", \"Darkfield\", \"PI\"], channel_importance_xgb.values())\n",
    "plt.title(\"Channel importance\")"
   ]
  },
  {
   "cell_type": "code",
   "execution_count": 27,
   "id": "e59c4a2c",
   "metadata": {},
   "outputs": [
    {
     "data": {
      "text/plain": [
       "Text(0.5, 1.0, 'Channel importance')"
      ]
     },
     "execution_count": 27,
     "metadata": {},
     "output_type": "execute_result"
    },
    {
     "data": {
      "image/png": "[encoded data removed]",
      "text/plain": [
       "<Figure size 432x288 with 1 Axes>"
      ]
     },
     "metadata": {
      "needs_background": "light"
     },
     "output_type": "display_data"
    }
   ],
   "source": [
    "plt.bar([\"BF\", \"Darkfield\", \"PI\"], channel_importance_permutation.values())\n",
    "plt.title(\"Channel importance\")"
   ]
  },
  {
   "cell_type": "code",
   "execution_count": null,
   "id": "90d94961",
   "metadata": {},
   "outputs": [],
   "source": []
  },
  {
   "cell_type": "code",
   "execution_count": null,
   "id": "49e19205",
   "metadata": {},
   "outputs": [],
   "source": []
  }
 ],
 "metadata": {
  "kernelspec": {
   "display_name": "Python 3.7.4 ('base')",
   "language": "python",
   "name": "python3"
  },
  "language_info": {
   "codemirror_mode": {
    "name": "ipython",
    "version": 3
   },
   "file_extension": ".py",
   "mimetype": "text/x-python",
   "name": "python",
   "nbconvert_exporter": "python",
   "pygments_lexer": "ipython3",
   "version": "3.7.4"
  },
  "vscode": {
   "interpreter": {
    "hash": "dc85c72049d21f557e30689d2619ffc4ab3f684c40ae26d281fe4539bf4644b2"
   }
  }
 },
 "nbformat": 4,
 "nbformat_minor": 5
}
