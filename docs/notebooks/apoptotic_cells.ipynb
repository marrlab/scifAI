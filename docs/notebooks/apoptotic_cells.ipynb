{
 "cells": [
  {
   "cell_type": "markdown",
   "metadata": {},
   "source": [
    "# Classification of Apoptotic cells\n",
    "\n",
    "In this jupyter notebook, we provide an example of how to extract explainable features and run a classification for the imaging flow cytometry dataset provided by:\n",
    "\n",
    "In vivo identification of apoptotic and extracellular vesicle-bound live cells using image-based deep learning https://doi.org/10.1080/20013078.2020.1792683\n",
    "\n",
    "We assume you have already installed the library. Otherwise you can install it using \n",
    "\n",
    "`!pip -q install <Path to the cloned module>`"
   ]
  },
  {
   "cell_type": "code",
   "execution_count": 1,
   "metadata": {},
   "outputs": [
    {
     "name": "stdout",
     "output_type": "stream",
     "text": [
      "\u001b[33mWARNING: You are using pip version 20.3.3; however, version 22.2.2 is available.\r\n",
      "You should consider upgrading via the '/pstore/apps/Python/3.8.3-2020.07/bin/python -m pip install --upgrade pip' command.\u001b[0m\r\n"
     ]
    }
   ],
   "source": [
    "!pip -q install /pstore/home/shetabs1/code/MarrLab/scifAI/"
   ]
  },
  {
   "cell_type": "markdown",
   "metadata": {},
   "source": [
    "here we import a series of needed modules. "
   ]
  },
  {
   "cell_type": "code",
   "execution_count": 2,
   "metadata": {},
   "outputs": [],
   "source": [
    "import scifAI\n",
    "import matplotlib.pyplot as plt\n",
    "import scifAI.ml.features as features\n",
    "from scifAI.ml.auto_feature_selection import AutoFeatureSelection\n",
    "from scifAI.ml.feature_extractor import FeatureExtractor\n",
    "from scifAI.ml.segmentation import segment_all_channels\n",
    "import numpy as np\n",
    "import pandas as pd\n",
    "import glob\n",
    "import warnings\n",
    "warnings.filterwarnings(\"ignore\")\n",
    "from tqdm import tqdm \n",
    "from sklearn.model_selection import train_test_split\n",
    "from sklearn.pipeline import Pipeline, FeatureUnion\n",
    "from sklearn.feature_extraction import DictVectorizer\n",
    "from sklearn.preprocessing import MinMaxScaler \n",
    "from sklearn.ensemble import RandomForestClassifier\n",
    "from sklearn.model_selection import GridSearchCV\n",
    "from xgboost import XGBClassifier\n",
    "import seaborn as sns\n"
   ]
  },
  {
   "cell_type": "markdown",
   "metadata": {},
   "source": [
    "here, we provide a function for visualizing the result of the confusion matrix which will be used later."
   ]
  },
  {
   "cell_type": "code",
   "execution_count": 3,
   "metadata": {},
   "outputs": [],
   "source": [
    "from sklearn.metrics import (plot_confusion_matrix, \n",
    "                             matthews_corrcoef, \n",
    "                             classification_report,\n",
    "                             confusion_matrix, \n",
    "                             accuracy_score, \n",
    "                             balanced_accuracy_score, \n",
    "                             cohen_kappa_score, \n",
    "                             f1_score,  \n",
    "                             precision_score, recall_score)\n",
    "from imblearn.metrics import classification_report_imbalanced\n",
    "\n",
    "def classification_complete_report(estimator, X, y_true, plot = True ): \n",
    "    y_pred = estimator.predict(X)\n",
    "    print(classification_report(y_true, y_pred))\n",
    "    print(classification_report_imbalanced(y_true, y_pred))\n",
    "    print(15*\"----\")\n",
    "    print(\"matthews correlation coeff: %.2f\" % (matthews_corrcoef(y_true, y_pred)) )\n",
    "    print(\"Cohen Kappa score: %.2f\" % (cohen_kappa_score(y_true, y_pred)) )\n",
    "    print(\"Cohen Kappa score: %.2f\" % (cohen_kappa_score(y_true, y_pred)) )\n",
    "    print(\"Accuracy: %.2f & balanced Accuracy: %.2f\" % (accuracy_score(y_true, y_pred), balanced_accuracy_score(y_true, y_pred)) )\n",
    "    print(\"macro F1 score: %.2f & micro F1 score: %.2f\" % (f1_score(y_true, y_pred, average = \"macro\"), f1_score(y_true, y_pred, average = \"micro\")) )\n",
    "    print(\"macro Precision score: %.2f & micro Precision score: %.2f\" % (precision_score(y_true, y_pred, average = \"macro\"), precision_score(y_true, y_pred, average = \"micro\")) )\n",
    "    print(\"macro Recall score: %.2f & micro Recall score: %.2f\" % (recall_score(y_true, y_pred, average = \"macro\"), recall_score(y_true, y_pred, average = \"micro\")) )\n",
    "    print(15*\"----\")\n",
    "    \n",
    "    if plot:\n",
    "        plot_confusion_matrix(estimator, X, y_true,cmap = \"Greys\", xticks_rotation='vertical')\n",
    "    "
   ]
  },
  {
   "cell_type": "markdown",
   "metadata": {},
   "source": [
    "now lets calculate the metadata:"
   ]
  },
  {
   "cell_type": "code",
   "execution_count": 4,
   "metadata": {},
   "outputs": [
    {
     "name": "stdout",
     "output_type": "stream",
     "text": [
      "Metadata prepration starts...\n",
      "Experiment_1 Donor_1 condition_1\n"
     ]
    },
    {
     "name": "stderr",
     "output_type": "stream",
     "text": [
      "100%|██████████| 15311/15311 [00:01<00:00, 9280.46it/s] \n"
     ]
    },
    {
     "name": "stdout",
     "output_type": "stream",
     "text": [
      "...metadata prepration ended.\n",
      "CPU times: user 780 ms, sys: 433 ms, total: 1.21 s\n",
      "Wall time: 2.04 s\n"
     ]
    }
   ],
   "source": [
    "%%time\n",
    "\n",
    "data_path = \"/pstore/data/DS4/Apoptotic_cell_detection/\"\n",
    "metadata = scifAI.metadata_generator(data_path)"
   ]
  },
  {
   "cell_type": "code",
   "execution_count": 5,
   "metadata": {},
   "outputs": [
    {
     "data": {
      "text/html": [
       "<div>\n",
       "<style scoped>\n",
       "    .dataframe tbody tr th:only-of-type {\n",
       "        vertical-align: middle;\n",
       "    }\n",
       "\n",
       "    .dataframe tbody tr th {\n",
       "        vertical-align: top;\n",
       "    }\n",
       "\n",
       "    .dataframe thead th {\n",
       "        text-align: right;\n",
       "    }\n",
       "</style>\n",
       "<table border=\"1\" class=\"dataframe\">\n",
       "  <thead>\n",
       "    <tr style=\"text-align: right;\">\n",
       "      <th></th>\n",
       "      <th>file</th>\n",
       "      <th>experiment</th>\n",
       "      <th>donor</th>\n",
       "      <th>condition</th>\n",
       "      <th>object_number</th>\n",
       "      <th>set</th>\n",
       "      <th>label</th>\n",
       "    </tr>\n",
       "  </thead>\n",
       "  <tbody>\n",
       "    <tr>\n",
       "      <th>0</th>\n",
       "      <td>/pstore/data/DS4/Apoptotic_cell_detection/Expe...</td>\n",
       "      <td>Experiment_1</td>\n",
       "      <td>Donor_1</td>\n",
       "      <td>condition_1</td>\n",
       "      <td>822</td>\n",
       "      <td>labeled</td>\n",
       "      <td>apoptotic</td>\n",
       "    </tr>\n",
       "    <tr>\n",
       "      <th>1</th>\n",
       "      <td>/pstore/data/DS4/Apoptotic_cell_detection/Expe...</td>\n",
       "      <td>Experiment_1</td>\n",
       "      <td>Donor_1</td>\n",
       "      <td>condition_1</td>\n",
       "      <td>12187</td>\n",
       "      <td>labeled</td>\n",
       "      <td>non-apoptotic</td>\n",
       "    </tr>\n",
       "    <tr>\n",
       "      <th>2</th>\n",
       "      <td>/pstore/data/DS4/Apoptotic_cell_detection/Expe...</td>\n",
       "      <td>Experiment_1</td>\n",
       "      <td>Donor_1</td>\n",
       "      <td>condition_1</td>\n",
       "      <td>2295</td>\n",
       "      <td>labeled</td>\n",
       "      <td>apoptotic</td>\n",
       "    </tr>\n",
       "    <tr>\n",
       "      <th>3</th>\n",
       "      <td>/pstore/data/DS4/Apoptotic_cell_detection/Expe...</td>\n",
       "      <td>Experiment_1</td>\n",
       "      <td>Donor_1</td>\n",
       "      <td>condition_1</td>\n",
       "      <td>14306</td>\n",
       "      <td>labeled</td>\n",
       "      <td>non-apoptotic</td>\n",
       "    </tr>\n",
       "    <tr>\n",
       "      <th>4</th>\n",
       "      <td>/pstore/data/DS4/Apoptotic_cell_detection/Expe...</td>\n",
       "      <td>Experiment_1</td>\n",
       "      <td>Donor_1</td>\n",
       "      <td>condition_1</td>\n",
       "      <td>2584</td>\n",
       "      <td>labeled</td>\n",
       "      <td>apoptotic</td>\n",
       "    </tr>\n",
       "    <tr>\n",
       "      <th>...</th>\n",
       "      <td>...</td>\n",
       "      <td>...</td>\n",
       "      <td>...</td>\n",
       "      <td>...</td>\n",
       "      <td>...</td>\n",
       "      <td>...</td>\n",
       "      <td>...</td>\n",
       "    </tr>\n",
       "    <tr>\n",
       "      <th>15306</th>\n",
       "      <td>/pstore/data/DS4/Apoptotic_cell_detection/Expe...</td>\n",
       "      <td>Experiment_1</td>\n",
       "      <td>Donor_1</td>\n",
       "      <td>condition_1</td>\n",
       "      <td>10365</td>\n",
       "      <td>labeled</td>\n",
       "      <td>apoptotic</td>\n",
       "    </tr>\n",
       "    <tr>\n",
       "      <th>15307</th>\n",
       "      <td>/pstore/data/DS4/Apoptotic_cell_detection/Expe...</td>\n",
       "      <td>Experiment_1</td>\n",
       "      <td>Donor_1</td>\n",
       "      <td>condition_1</td>\n",
       "      <td>2952</td>\n",
       "      <td>labeled</td>\n",
       "      <td>apoptotic</td>\n",
       "    </tr>\n",
       "    <tr>\n",
       "      <th>15308</th>\n",
       "      <td>/pstore/data/DS4/Apoptotic_cell_detection/Expe...</td>\n",
       "      <td>Experiment_1</td>\n",
       "      <td>Donor_1</td>\n",
       "      <td>condition_1</td>\n",
       "      <td>7308</td>\n",
       "      <td>labeled</td>\n",
       "      <td>non-apoptotic</td>\n",
       "    </tr>\n",
       "    <tr>\n",
       "      <th>15309</th>\n",
       "      <td>/pstore/data/DS4/Apoptotic_cell_detection/Expe...</td>\n",
       "      <td>Experiment_1</td>\n",
       "      <td>Donor_1</td>\n",
       "      <td>condition_1</td>\n",
       "      <td>3211</td>\n",
       "      <td>labeled</td>\n",
       "      <td>apoptotic</td>\n",
       "    </tr>\n",
       "    <tr>\n",
       "      <th>15310</th>\n",
       "      <td>/pstore/data/DS4/Apoptotic_cell_detection/Expe...</td>\n",
       "      <td>Experiment_1</td>\n",
       "      <td>Donor_1</td>\n",
       "      <td>condition_1</td>\n",
       "      <td>3500</td>\n",
       "      <td>labeled</td>\n",
       "      <td>apoptotic</td>\n",
       "    </tr>\n",
       "  </tbody>\n",
       "</table>\n",
       "<p>15311 rows × 7 columns</p>\n",
       "</div>"
      ],
      "text/plain": [
       "                                                    file    experiment  \\\n",
       "0      /pstore/data/DS4/Apoptotic_cell_detection/Expe...  Experiment_1   \n",
       "1      /pstore/data/DS4/Apoptotic_cell_detection/Expe...  Experiment_1   \n",
       "2      /pstore/data/DS4/Apoptotic_cell_detection/Expe...  Experiment_1   \n",
       "3      /pstore/data/DS4/Apoptotic_cell_detection/Expe...  Experiment_1   \n",
       "4      /pstore/data/DS4/Apoptotic_cell_detection/Expe...  Experiment_1   \n",
       "...                                                  ...           ...   \n",
       "15306  /pstore/data/DS4/Apoptotic_cell_detection/Expe...  Experiment_1   \n",
       "15307  /pstore/data/DS4/Apoptotic_cell_detection/Expe...  Experiment_1   \n",
       "15308  /pstore/data/DS4/Apoptotic_cell_detection/Expe...  Experiment_1   \n",
       "15309  /pstore/data/DS4/Apoptotic_cell_detection/Expe...  Experiment_1   \n",
       "15310  /pstore/data/DS4/Apoptotic_cell_detection/Expe...  Experiment_1   \n",
       "\n",
       "         donor    condition object_number      set          label  \n",
       "0      Donor_1  condition_1           822  labeled      apoptotic  \n",
       "1      Donor_1  condition_1         12187  labeled  non-apoptotic  \n",
       "2      Donor_1  condition_1          2295  labeled      apoptotic  \n",
       "3      Donor_1  condition_1         14306  labeled  non-apoptotic  \n",
       "4      Donor_1  condition_1          2584  labeled      apoptotic  \n",
       "...        ...          ...           ...      ...            ...  \n",
       "15306  Donor_1  condition_1         10365  labeled      apoptotic  \n",
       "15307  Donor_1  condition_1          2952  labeled      apoptotic  \n",
       "15308  Donor_1  condition_1          7308  labeled  non-apoptotic  \n",
       "15309  Donor_1  condition_1          3211  labeled      apoptotic  \n",
       "15310  Donor_1  condition_1          3500  labeled      apoptotic  \n",
       "\n",
       "[15311 rows x 7 columns]"
      ]
     },
     "execution_count": 5,
     "metadata": {},
     "output_type": "execute_result"
    }
   ],
   "source": [
    "metadata"
   ]
  },
  {
   "cell_type": "markdown",
   "metadata": {},
   "source": [
    "so we have 15311 files with `apoptotic` and 'non-apoptotic' labels. We can now do a feature extraction"
   ]
  },
  {
   "cell_type": "code",
   "execution_count": 6,
   "metadata": {},
   "outputs": [],
   "source": [
    "\n",
    "feature_union = FeatureUnion([\n",
    "                                (\"MaskBasedFeatures\", features.MaskBasedFeatures()), \n",
    "                                (\"GLCMFeatures\", features.GLCMFeatures()),  \n",
    "                                (\"GradientRMS\", features.GradientRMS()),  \n",
    "                                (\"BackgroundMean\", features.BackgroundMean()), \n",
    "                                (\"PercentileFeatures\", features.PercentileFeatures()), \n",
    "                                (\"CellShape\", features.CellShape()),  \n",
    "                                (\"Collocalization\", features.Collocalization()),    \n",
    "                                (\"IntersectionProperties\", features.IntersectionProperties()),\n",
    "                                (\"CenterOfCellsDistances\", features.CenterOfCellsDistances())\n",
    "]\n",
    ")"
   ]
  },
  {
   "cell_type": "code",
   "execution_count": null,
   "metadata": {},
   "outputs": [],
   "source": []
  },
  {
   "cell_type": "code",
   "execution_count": 7,
   "metadata": {},
   "outputs": [],
   "source": [
    "from scifAI.ml.segmentation import SegmentationGenerator\n",
    "\n",
    "pipeline = Pipeline([\n",
    "                     (\"features\", feature_union)], verbose=3)\n"
   ]
  },
  {
   "cell_type": "code",
   "execution_count": 8,
   "metadata": {},
   "outputs": [],
   "source": [
    "\n",
    "feature_extractor = FeatureExtractor(pipeline)"
   ]
  },
  {
   "cell_type": "markdown",
   "metadata": {},
   "source": [
    "before running the feature extraction, lets look at a random sample (the 0th entry in the metadata dataframe)"
   ]
  },
  {
   "cell_type": "code",
   "execution_count": 9,
   "metadata": {},
   "outputs": [],
   "source": [
    "image, _ = feature_extractor.get_image_mask(metadata, 0)"
   ]
  },
  {
   "cell_type": "code",
   "execution_count": 10,
   "metadata": {},
   "outputs": [
    {
     "data": {
      "text/plain": [
       "[]"
      ]
     },
     "execution_count": 10,
     "metadata": {},
     "output_type": "execute_result"
    },
    {
     "data": {
      "image/png": "[encoded data removed]",
      "text/plain": [
       "<Figure size 432x288 with 2 Axes>"
      ]
     },
     "metadata": {},
     "output_type": "display_data"
    }
   ],
   "source": [
    "sns.set_style(\"white\")\n",
    "fig, ax = plt.subplots(nrows = 1, \n",
    "                       ncols = 2, \n",
    "                       sharex = True, \n",
    "                       sharey = True)\n",
    "\n",
    "ax[0].imshow(image[:,:,0], cmap = \"Greys\")\n",
    "ax[0].set_xticks([])\n",
    "ax[0].set_yticks([])\n",
    "\n",
    "ax[1].imshow(image[:,:,1], cmap = \"Greens\")\n",
    "ax[1].set_xticks([])\n",
    "ax[1].set_yticks([])\n"
   ]
  },
  {
   "cell_type": "code",
   "execution_count": 11,
   "metadata": {},
   "outputs": [
    {
     "name": "stderr",
     "output_type": "stream",
     "text": [
      "100%|██████████| 15311/15311 [00:21<00:00, 712.16it/s]\n"
     ]
    }
   ],
   "source": [
    "\n",
    "list_of_features = feature_extractor.extract_features(metadata)"
   ]
  },
  {
   "cell_type": "markdown",
   "metadata": {},
   "source": [
    "lets create a dataframe with the metadata"
   ]
  },
  {
   "cell_type": "code",
   "execution_count": 12,
   "metadata": {},
   "outputs": [],
   "source": [
    "df_features = pd.DataFrame(list_of_features)"
   ]
  },
  {
   "cell_type": "code",
   "execution_count": 13,
   "metadata": {},
   "outputs": [
    {
     "data": {
      "text/html": [
       "<div>\n",
       "<style scoped>\n",
       "    .dataframe tbody tr th:only-of-type {\n",
       "        vertical-align: middle;\n",
       "    }\n",
       "\n",
       "    .dataframe tbody tr th {\n",
       "        vertical-align: top;\n",
       "    }\n",
       "\n",
       "    .dataframe thead th {\n",
       "        text-align: right;\n",
       "    }\n",
       "</style>\n",
       "<table border=\"1\" class=\"dataframe\">\n",
       "  <thead>\n",
       "    <tr style=\"text-align: right;\">\n",
       "      <th></th>\n",
       "      <th>mask_based_area_Ch1</th>\n",
       "      <th>mask_based_bbox_area_Ch1</th>\n",
       "      <th>mask_based_convex_area_Ch1</th>\n",
       "      <th>mask_based_eccentricity_Ch1</th>\n",
       "      <th>mask_based_equivalent_diameter_Ch1</th>\n",
       "      <th>mask_based_euler_number_Ch1</th>\n",
       "      <th>mask_based_extent_Ch1</th>\n",
       "      <th>mask_based_feret_diameter_max_Ch1</th>\n",
       "      <th>mask_based_filled_area_Ch1</th>\n",
       "      <th>mask_based_major_axis_length_Ch1</th>\n",
       "      <th>...</th>\n",
       "      <th>structural_similarity_R2_Ch2_R1_Ch1</th>\n",
       "      <th>hausdorff_distance_R2_Ch2_R1_Ch1</th>\n",
       "      <th>sum_intensity_ratio_Ch1_R1_R2</th>\n",
       "      <th>mean_intensity_ratio_Ch1_R1_R2</th>\n",
       "      <th>max_intensity_ratio_Ch1_R1_R2</th>\n",
       "      <th>sum_intensity_ratio_Ch2_R1_R2</th>\n",
       "      <th>mean_intensity_ratio_Ch2_R1_R2</th>\n",
       "      <th>max_intensity_ratio_Ch2_R1_R2</th>\n",
       "      <th>cell_distance_Ch1_Ch2</th>\n",
       "      <th>weighted_cell_distance_Ch1_Ch2</th>\n",
       "    </tr>\n",
       "  </thead>\n",
       "  <tbody>\n",
       "    <tr>\n",
       "      <th>0</th>\n",
       "      <td>168</td>\n",
       "      <td>242</td>\n",
       "      <td>200</td>\n",
       "      <td>0.889362</td>\n",
       "      <td>14.625466</td>\n",
       "      <td>1</td>\n",
       "      <td>0.694215</td>\n",
       "      <td>22.360680</td>\n",
       "      <td>168</td>\n",
       "      <td>22.463063</td>\n",
       "      <td>...</td>\n",
       "      <td>0.519231</td>\n",
       "      <td>inf</td>\n",
       "      <td>0.000000</td>\n",
       "      <td>0.000000</td>\n",
       "      <td>0.000000</td>\n",
       "      <td>0.000000</td>\n",
       "      <td>0.000000</td>\n",
       "      <td>0.000000</td>\n",
       "      <td>-1.000000</td>\n",
       "      <td>-1.000000</td>\n",
       "    </tr>\n",
       "    <tr>\n",
       "      <th>1</th>\n",
       "      <td>366</td>\n",
       "      <td>486</td>\n",
       "      <td>393</td>\n",
       "      <td>0.788548</td>\n",
       "      <td>21.587165</td>\n",
       "      <td>1</td>\n",
       "      <td>0.753086</td>\n",
       "      <td>29.966648</td>\n",
       "      <td>366</td>\n",
       "      <td>27.948291</td>\n",
       "      <td>...</td>\n",
       "      <td>0.174556</td>\n",
       "      <td>inf</td>\n",
       "      <td>0.000000</td>\n",
       "      <td>0.000000</td>\n",
       "      <td>0.000000</td>\n",
       "      <td>0.000000</td>\n",
       "      <td>0.000000</td>\n",
       "      <td>0.000000</td>\n",
       "      <td>-1.000000</td>\n",
       "      <td>-1.000000</td>\n",
       "    </tr>\n",
       "    <tr>\n",
       "      <th>2</th>\n",
       "      <td>281</td>\n",
       "      <td>361</td>\n",
       "      <td>298</td>\n",
       "      <td>0.333766</td>\n",
       "      <td>18.915082</td>\n",
       "      <td>1</td>\n",
       "      <td>0.778393</td>\n",
       "      <td>21.095023</td>\n",
       "      <td>281</td>\n",
       "      <td>19.548893</td>\n",
       "      <td>...</td>\n",
       "      <td>0.175485</td>\n",
       "      <td>6.403124</td>\n",
       "      <td>0.662920</td>\n",
       "      <td>0.662920</td>\n",
       "      <td>4.548358</td>\n",
       "      <td>0.699263</td>\n",
       "      <td>0.699263</td>\n",
       "      <td>7.606893</td>\n",
       "      <td>4.377484</td>\n",
       "      <td>4.381015</td>\n",
       "    </tr>\n",
       "    <tr>\n",
       "      <th>3</th>\n",
       "      <td>331</td>\n",
       "      <td>506</td>\n",
       "      <td>364</td>\n",
       "      <td>0.545581</td>\n",
       "      <td>20.529060</td>\n",
       "      <td>1</td>\n",
       "      <td>0.654150</td>\n",
       "      <td>23.769729</td>\n",
       "      <td>331</td>\n",
       "      <td>22.838270</td>\n",
       "      <td>...</td>\n",
       "      <td>0.131657</td>\n",
       "      <td>inf</td>\n",
       "      <td>0.000000</td>\n",
       "      <td>0.000000</td>\n",
       "      <td>0.000000</td>\n",
       "      <td>0.000000</td>\n",
       "      <td>0.000000</td>\n",
       "      <td>0.000000</td>\n",
       "      <td>-1.000000</td>\n",
       "      <td>-1.000000</td>\n",
       "    </tr>\n",
       "    <tr>\n",
       "      <th>4</th>\n",
       "      <td>177</td>\n",
       "      <td>289</td>\n",
       "      <td>220</td>\n",
       "      <td>0.686567</td>\n",
       "      <td>15.012108</td>\n",
       "      <td>1</td>\n",
       "      <td>0.612457</td>\n",
       "      <td>20.248457</td>\n",
       "      <td>177</td>\n",
       "      <td>18.525576</td>\n",
       "      <td>...</td>\n",
       "      <td>0.415261</td>\n",
       "      <td>12.041595</td>\n",
       "      <td>0.163805</td>\n",
       "      <td>0.163805</td>\n",
       "      <td>7.021026</td>\n",
       "      <td>0.121119</td>\n",
       "      <td>0.121119</td>\n",
       "      <td>5.688325</td>\n",
       "      <td>8.975240</td>\n",
       "      <td>8.954795</td>\n",
       "    </tr>\n",
       "  </tbody>\n",
       "</table>\n",
       "<p>5 rows × 138 columns</p>\n",
       "</div>"
      ],
      "text/plain": [
       "   mask_based_area_Ch1  mask_based_bbox_area_Ch1  mask_based_convex_area_Ch1  \\\n",
       "0                  168                       242                         200   \n",
       "1                  366                       486                         393   \n",
       "2                  281                       361                         298   \n",
       "3                  331                       506                         364   \n",
       "4                  177                       289                         220   \n",
       "\n",
       "   mask_based_eccentricity_Ch1  mask_based_equivalent_diameter_Ch1  \\\n",
       "0                     0.889362                           14.625466   \n",
       "1                     0.788548                           21.587165   \n",
       "2                     0.333766                           18.915082   \n",
       "3                     0.545581                           20.529060   \n",
       "4                     0.686567                           15.012108   \n",
       "\n",
       "   mask_based_euler_number_Ch1  mask_based_extent_Ch1  \\\n",
       "0                            1               0.694215   \n",
       "1                            1               0.753086   \n",
       "2                            1               0.778393   \n",
       "3                            1               0.654150   \n",
       "4                            1               0.612457   \n",
       "\n",
       "   mask_based_feret_diameter_max_Ch1  mask_based_filled_area_Ch1  \\\n",
       "0                          22.360680                         168   \n",
       "1                          29.966648                         366   \n",
       "2                          21.095023                         281   \n",
       "3                          23.769729                         331   \n",
       "4                          20.248457                         177   \n",
       "\n",
       "   mask_based_major_axis_length_Ch1  ...  structural_similarity_R2_Ch2_R1_Ch1  \\\n",
       "0                         22.463063  ...                             0.519231   \n",
       "1                         27.948291  ...                             0.174556   \n",
       "2                         19.548893  ...                             0.175485   \n",
       "3                         22.838270  ...                             0.131657   \n",
       "4                         18.525576  ...                             0.415261   \n",
       "\n",
       "   hausdorff_distance_R2_Ch2_R1_Ch1  sum_intensity_ratio_Ch1_R1_R2  \\\n",
       "0                               inf                       0.000000   \n",
       "1                               inf                       0.000000   \n",
       "2                          6.403124                       0.662920   \n",
       "3                               inf                       0.000000   \n",
       "4                         12.041595                       0.163805   \n",
       "\n",
       "   mean_intensity_ratio_Ch1_R1_R2  max_intensity_ratio_Ch1_R1_R2  \\\n",
       "0                        0.000000                       0.000000   \n",
       "1                        0.000000                       0.000000   \n",
       "2                        0.662920                       4.548358   \n",
       "3                        0.000000                       0.000000   \n",
       "4                        0.163805                       7.021026   \n",
       "\n",
       "   sum_intensity_ratio_Ch2_R1_R2  mean_intensity_ratio_Ch2_R1_R2  \\\n",
       "0                       0.000000                        0.000000   \n",
       "1                       0.000000                        0.000000   \n",
       "2                       0.699263                        0.699263   \n",
       "3                       0.000000                        0.000000   \n",
       "4                       0.121119                        0.121119   \n",
       "\n",
       "   max_intensity_ratio_Ch2_R1_R2  cell_distance_Ch1_Ch2  \\\n",
       "0                       0.000000              -1.000000   \n",
       "1                       0.000000              -1.000000   \n",
       "2                       7.606893               4.377484   \n",
       "3                       0.000000              -1.000000   \n",
       "4                       5.688325               8.975240   \n",
       "\n",
       "   weighted_cell_distance_Ch1_Ch2  \n",
       "0                       -1.000000  \n",
       "1                       -1.000000  \n",
       "2                        4.381015  \n",
       "3                       -1.000000  \n",
       "4                        8.954795  \n",
       "\n",
       "[5 rows x 138 columns]"
      ]
     },
     "execution_count": 13,
     "metadata": {},
     "output_type": "execute_result"
    }
   ],
   "source": [
    "df_features.head()"
   ]
  },
  {
   "cell_type": "markdown",
   "metadata": {},
   "source": [
    "after creating the features, we impute empty values with 0. and delete features with no variance. After that, we name the features correctly based on their real name"
   ]
  },
  {
   "cell_type": "code",
   "execution_count": 14,
   "metadata": {},
   "outputs": [],
   "source": [
    "df_features = df_features.fillna(0.)\n",
    "df_features = df_features.loc[:, df_features.std() > 0.]"
   ]
  },
  {
   "cell_type": "code",
   "execution_count": 15,
   "metadata": {},
   "outputs": [],
   "source": [
    "column_dict_rename = dict()\n",
    "\n",
    "channel_names = {   \n",
    "         \"Ch1\": \"BF\",\n",
    "         \"Ch2\": \"FL\",}\n",
    "\n",
    "for col in df_features.columns:\n",
    "    new_col = col\n",
    "    for ch in channel_names:\n",
    "        new_col = new_col.replace(ch,channel_names[ch] )\n",
    "    column_dict_rename[col] = new_col\n",
    "    \n",
    "df_features = df_features.rename(columns=column_dict_rename).copy()"
   ]
  },
  {
   "cell_type": "markdown",
   "metadata": {},
   "source": [
    "let's create a train, validation and test set. We simply use the indexes, as it is easier to use it with sklearn pipelines"
   ]
  },
  {
   "cell_type": "code",
   "execution_count": 16,
   "metadata": {},
   "outputs": [],
   "source": [
    "from scifAI.dl.utils import train_validation_test_split\n",
    "\n",
    "\n",
    "train_index, validation_index, test_index = train_validation_test_split(metadata.index, \n",
    "                                                                        metadata.loc[:,\"label\"] + metadata.loc[:,\"experiment\"] + metadata.loc[:,\"donor\"],\n",
    "                                                                        validation_size=0.20, \n",
    "                                                                        test_size=0.30)\n",
    "\n",
    "\n"
   ]
  },
  {
   "cell_type": "markdown",
   "metadata": {},
   "source": [
    "lets train an XGBoost model on the data. we also use a feature selection before the classifiation to reduce the dimensionality"
   ]
  },
  {
   "cell_type": "code",
   "execution_count": 17,
   "metadata": {},
   "outputs": [
    {
     "name": "stdout",
     "output_type": "stream",
     "text": [
      "[Pipeline] .... (step 1 of 3) Processing StandardScaler, total=   0.0s\n",
      "Step 1: Find highly correlated features\n",
      "Step 2: wrapper methods\n",
      "Calculating mutual information\n",
      "Calculating SVC\n",
      "Calculating random forest\n",
      "Calculating l1 logistic regression\n",
      "Calculating l2 logistic regression\n",
      "Calculating xgb\n",
      "number of similar features among all the methods: 3\n",
      "From 136 initial features Selected (multicolinear): 87\n",
      "Step 3: clustering over correlation of features\n",
      "From 136 initial features Selected (uncorrelated): 50\n",
      "[Pipeline]  (step 2 of 3) Processing AutoFeatureSelection, total=  20.4s\n",
      "[Pipeline] ............... (step 3 of 3) Processing xgb, total=   6.4s\n"
     ]
    },
    {
     "data": {
      "text/plain": [
       "Pipeline(steps=[('StandardScaler', StandardScaler()),\n",
       "                ('AutoFeatureSelection',\n",
       "                 AutoFeatureSelection(top_k=50, verbose=True)),\n",
       "                ('xgb',\n",
       "                 XGBClassifier(base_score=0.5, booster='gbtree',\n",
       "                               colsample_bylevel=1, colsample_bynode=1,\n",
       "                               colsample_bytree=1, enable_categorical=False,\n",
       "                               eval_metric='logloss', gamma=0, gpu_id=-1,\n",
       "                               importance_type=None, interaction_constraints='',\n",
       "                               learning_rate=0.300000012, max_delta_step=0,\n",
       "                               max_depth=6, min_child_weight=1, missing=nan,\n",
       "                               monotone_constraints='()', n_estimators=1000,\n",
       "                               n_jobs=-1, num_parallel_tree=1, predictor='auto',\n",
       "                               random_state=0, reg_alpha=0, reg_lambda=1,\n",
       "                               scale_pos_weight=1, subsample=1,\n",
       "                               tree_method='exact', validate_parameters=1,\n",
       "                               verbosity=None))],\n",
       "         verbose=True)"
      ]
     },
     "execution_count": 17,
     "metadata": {},
     "output_type": "execute_result"
    }
   ],
   "source": [
    "from sklearn import manifold, datasets\n",
    "from sklearn import decomposition\n",
    "from umap import UMAP\n",
    "from sklearn.cluster import KMeans\n",
    "from sklearn.linear_model import LinearRegression,RidgeCV,PoissonRegressor\n",
    "from sklearn.ensemble import RandomForestRegressor\n",
    "from sklearn.pipeline import Pipeline\n",
    "from sklearn.preprocessing import StandardScaler, MinMaxScaler, RobustScaler\n",
    "from sklearn.feature_selection import mutual_info_regression\n",
    "from sklearn.metrics import r2_score, median_absolute_error\n",
    "from sklearn.feature_selection import f_regression\n",
    "from sklearn.feature_selection import SelectKBest\n",
    "from sklearn.model_selection import train_test_split\n",
    "from xgboost import XGBRegressor\n",
    "from sklearn.svm import LinearSVR\n",
    "\n",
    "xgb = Pipeline([\n",
    "                ('StandardScaler', StandardScaler()), \n",
    "                ('AutoFeatureSelection', AutoFeatureSelection( top_k = 50 ,verbose=True)),\n",
    "                 ('xgb', XGBClassifier(n_jobs = -1, n_estimators = 1000, eval_metric = \"logloss\") )\n",
    "], verbose=True)\n",
    "\n",
    "xgb.fit(df_features.loc[train_index.tolist() + validation_index.tolist(), :],  \n",
    "       metadata.loc[train_index.tolist() + validation_index.tolist(), \"label\"] )"
   ]
  },
  {
   "cell_type": "code",
   "execution_count": 18,
   "metadata": {},
   "outputs": [
    {
     "name": "stdout",
     "output_type": "stream",
     "text": [
      "               precision    recall  f1-score   support\n",
      "\n",
      "    apoptotic       0.95      0.94      0.95      2666\n",
      "non-apoptotic       0.92      0.94      0.93      1928\n",
      "\n",
      "     accuracy                           0.94      4594\n",
      "    macro avg       0.93      0.94      0.94      4594\n",
      " weighted avg       0.94      0.94      0.94      4594\n",
      "\n",
      "                     pre       rec       spe        f1       geo       iba       sup\n",
      "\n",
      "    apoptotic       0.95      0.94      0.94      0.95      0.94      0.88      2666\n",
      "non-apoptotic       0.92      0.94      0.94      0.93      0.94      0.88      1928\n",
      "\n",
      "  avg / total       0.94      0.94      0.94      0.94      0.94      0.88      4594\n",
      "\n",
      "------------------------------------------------------------\n",
      "matthews correlation coeff: 0.87\n",
      "Cohen Kappa score: 0.87\n",
      "Cohen Kappa score: 0.87\n",
      "Accuracy: 0.94 & balanced Accuracy: 0.94\n",
      "macro F1 score: 0.94 & micro F1 score: 0.94\n",
      "macro Precision score: 0.93 & micro Precision score: 0.94\n",
      "macro Recall score: 0.94 & micro Recall score: 0.94\n",
      "------------------------------------------------------------\n"
     ]
    },
    {
     "data": {
      "image/png": "[encoded data removed]",
      "text/plain": [
       "<Figure size 432x288 with 2 Axes>"
      ]
     },
     "metadata": {},
     "output_type": "display_data"
    }
   ],
   "source": [
    "sns.set_style(\"white\")\n",
    "sns.set(font_scale = 1.1)\n",
    "\n",
    "sns.set_style(\"ticks\")\n",
    "classification_complete_report(xgb, \n",
    "                               df_features.loc[test_index, :],\n",
    "                               metadata.loc[test_index, \"label\"])"
   ]
  },
  {
   "cell_type": "markdown",
   "metadata": {},
   "source": [
    "the classifier reached macro f1 of 0.95 which is comparable with the main publication. We can also look at the 50 preselected feautres using scifAI"
   ]
  },
  {
   "cell_type": "code",
   "execution_count": 19,
   "metadata": {},
   "outputs": [
    {
     "data": {
      "text/plain": [
       "Index(['mask_based_equivalent_diameter_BF', 'mask_based_feret_diameter_max_BF',\n",
       "       'mask_based_max_intensity_BF', 'mask_based_mean_intensity_BF',\n",
       "       'mask_based_moments_hu-1_BF', 'mask_based_moments_hu-2_BF',\n",
       "       'mask_based_solidity_BF', 'mask_based_area_FL',\n",
       "       'mask_based_bbox_area_FL', 'mask_based_eccentricity_FL',\n",
       "       'mask_based_euler_number_FL', 'mask_based_extent_FL',\n",
       "       'mask_based_max_intensity_FL', 'mask_based_min_intensity_FL',\n",
       "       'mask_based_moments_hu-2_FL', 'mask_based_moments_hu-4_FL',\n",
       "       'mask_based_moments_hu-6_FL', 'mask_based_orientation_FL',\n",
       "       'mask_based_weighted_moments_hu-0_FL',\n",
       "       'mask_based_weighted_moments_hu-1_FL',\n",
       "       'mask_based_weighted_moments_hu-5_FL', 'contrast_BF', 'ASM_BF',\n",
       "       'contrast_FL', 'dissimilarity_FL', 'homogeneity_FL', 'ASM_FL',\n",
       "       'gradient_RMS_FL', 'percentile_10_BF', 'percentile_40_BF',\n",
       "       'percentile_70_BF', 'percentile_80_BF', 'percentile_10_FL',\n",
       "       'percentile_20_FL', 'percentile_40_FL', 'percentile_60_FL',\n",
       "       'percentile_80_FL', 'percentile_90_FL', 'skew_intensity_BF',\n",
       "       'shannon_entropy_BF', 'sum_intensity_FL', 'kurtosis_intensity_FL',\n",
       "       'skew_intensity_FL', 'dice_distance_BF_FL',\n",
       "       'manders_overlap_coefficient_R1_BF_R2_FL',\n",
       "       'intensity_correlation_quotient_R1_BF_R2_FL',\n",
       "       'correlation_distance_R2_FL_R1_BF', 'sum_intensity_ratio_BF_R1_R2',\n",
       "       'sum_intensity_ratio_FL_R1_R2', 'max_intensity_ratio_FL_R1_R2'],\n",
       "      dtype='object')"
      ]
     },
     "execution_count": 19,
     "metadata": {},
     "output_type": "execute_result"
    }
   ],
   "source": [
    "selected_features = xgb.steps[1][1].selected_features\n",
    "selected_feature_names = df_features.columns[selected_features]\n",
    "selected_feature_names"
   ]
  },
  {
   "cell_type": "markdown",
   "metadata": {},
   "source": [
    "Finally, the most important features based on the Gini-index and Permutation importance are:"
   ]
  },
  {
   "cell_type": "code",
   "execution_count": 20,
   "metadata": {},
   "outputs": [
    {
     "data": {
      "image/png": "[encoded data removed]",
      "text/plain": [
       "<Figure size 1080x576 with 2 Axes>"
      ]
     },
     "metadata": {},
     "output_type": "display_data"
    }
   ],
   "source": [
    "sns.set_style( \"whitegrid\" )\n",
    "\n",
    "from sklearn.inspection import permutation_importance\n",
    "\n",
    "fig, (ax1, ax2) = plt.subplots(1, 2, figsize=(15, 8))\n",
    "\n",
    "tree_importance_sorted_idx = np.argsort(xgb.steps[2][1].feature_importances_)[-10:]\n",
    "\n",
    "tree_indices = np.arange(0, 10) + 0.5\n",
    "\n",
    "ax1.barh(tree_indices, \n",
    "         xgb.steps[2][1].feature_importances_[tree_importance_sorted_idx], \n",
    "         height=0.7, color  = \"grey\")\n",
    "ax1.set_yticklabels(df_features.columns[selected_features].values[tree_importance_sorted_idx])\n",
    "ax1.set_yticks(tree_indices)\n",
    "\n",
    "\n",
    "result = permutation_importance(xgb, \n",
    "                                df_features.loc[test_index, :],\n",
    "                                metadata.loc[test_index, \"label\"], \n",
    "                                n_repeats=10,\n",
    "                                random_state=42)\n",
    "perm_sorted_idx = result.importances_mean.argsort()[-10:]\n",
    "ax2.boxplot(result.importances[perm_sorted_idx].T, \n",
    "            vert=False,\n",
    "            labels=df_features.columns.values[perm_sorted_idx])\n",
    "\n",
    "fig.tight_layout()"
   ]
  },
  {
   "cell_type": "markdown",
   "metadata": {},
   "source": [
    "As you see, the most important features are from the FL channel which is alignment with the original publication"
   ]
  },
  {
   "cell_type": "code",
   "execution_count": null,
   "metadata": {},
   "outputs": [],
   "source": []
  }
 ],
 "metadata": {
  "kernelspec": {
   "display_name": "Python 3",
   "language": "python",
   "name": "python3"
  },
  "language_info": {
   "codemirror_mode": {
    "name": "ipython",
    "version": 3
   },
   "file_extension": ".py",
   "mimetype": "text/x-python",
   "name": "python",
   "nbconvert_exporter": "python",
   "pygments_lexer": "ipython3",
   "version": "3.8.3"
  },
  "vscode": {
   "interpreter": {
    "hash": "dc85c72049d21f557e30689d2619ffc4ab3f684c40ae26d281fe4539bf4644b2"
   }
  }
 },
 "nbformat": 4,
 "nbformat_minor": 5
}
