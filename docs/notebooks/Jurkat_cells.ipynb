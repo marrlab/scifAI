{
 "cells": [
  {
   "cell_type": "markdown",
   "metadata": {},
   "source": [
    "# Classification of Apoptotic cells\n",
    "\n",
    "In this jupyter notebook, we provide an example of how to extract explainable features and run a classification for the imaging flow cytometry dataset provided by:\n",
    "\n",
    "Reconstructing cell cycle and disease progression using deep learning. https://doi.org/10.1038/s41467-017-00623-3\n",
    "\n",
    "We assume you have already installed the library. Otherwise you can install it using \n",
    "\n",
    "`!pip -q install <Path to the cloned module>`"
   ]
  },
  {
   "cell_type": "code",
   "execution_count": 1,
   "metadata": {},
   "outputs": [
    {
     "name": "stdout",
     "output_type": "stream",
     "text": [
      "\u001b[33mWARNING: You are using pip version 20.3.3; however, version 22.2.2 is available.\r\n",
      "You should consider upgrading via the '/pstore/apps/Python/3.8.3-2020.07/bin/python -m pip install --upgrade pip' command.\u001b[0m\r\n"
     ]
    }
   ],
   "source": [
    "!pip -q install /pstore/home/shetabs1/code/MarrLab/scifAI/"
   ]
  },
  {
   "cell_type": "markdown",
   "metadata": {},
   "source": [
    "here we import a series of needed modules. "
   ]
  },
  {
   "cell_type": "code",
   "execution_count": 2,
   "metadata": {},
   "outputs": [],
   "source": [
    "import scifAI\n",
    "import matplotlib.pyplot as plt\n",
    "import scifAI.ml.features as features\n",
    "from scifAI.ml.auto_feature_selection import AutoFeatureSelection\n",
    "from scifAI.ml.feature_extractor import FeatureExtractor\n",
    "from scifAI.ml.segmentation import segment_all_channels\n",
    "import numpy as np\n",
    "import pandas as pd\n",
    "import glob\n",
    "import warnings\n",
    "warnings.filterwarnings(\"ignore\")\n",
    "from tqdm import tqdm \n",
    "from sklearn.model_selection import train_test_split\n",
    "from sklearn.pipeline import Pipeline, FeatureUnion\n",
    "from sklearn.feature_extraction import DictVectorizer\n",
    "from sklearn.preprocessing import MinMaxScaler \n",
    "from sklearn.ensemble import RandomForestClassifier\n",
    "from sklearn.model_selection import GridSearchCV\n",
    "from xgboost import XGBClassifier\n",
    "import seaborn as sns\n"
   ]
  },
  {
   "cell_type": "markdown",
   "metadata": {},
   "source": [
    "here, we provide a function for visualizing the result of the confusion matrix which will be used later."
   ]
  },
  {
   "cell_type": "code",
   "execution_count": 3,
   "metadata": {},
   "outputs": [],
   "source": [
    "from sklearn.metrics import (plot_confusion_matrix, \n",
    "                             matthews_corrcoef, \n",
    "                             classification_report,\n",
    "                             confusion_matrix, \n",
    "                             accuracy_score, \n",
    "                             balanced_accuracy_score, \n",
    "                             cohen_kappa_score, \n",
    "                             f1_score,  \n",
    "                             precision_score, recall_score)\n",
    "from imblearn.metrics import classification_report_imbalanced\n",
    "\n",
    "def classification_complete_report(estimator, X, y_true, plot = True ): \n",
    "    y_pred = estimator.predict(X)\n",
    "    print(classification_report(y_true, y_pred))\n",
    "    print(classification_report_imbalanced(y_true, y_pred))\n",
    "    print(15*\"----\")\n",
    "    print(\"matthews correlation coeff: %.2f\" % (matthews_corrcoef(y_true, y_pred)) )\n",
    "    print(\"Cohen Kappa score: %.2f\" % (cohen_kappa_score(y_true, y_pred)) )\n",
    "    print(\"Cohen Kappa score: %.2f\" % (cohen_kappa_score(y_true, y_pred)) )\n",
    "    print(\"Accuracy: %.2f & balanced Accuracy: %.2f\" % (accuracy_score(y_true, y_pred), balanced_accuracy_score(y_true, y_pred)) )\n",
    "    print(\"macro F1 score: %.2f & micro F1 score: %.2f\" % (f1_score(y_true, y_pred, average = \"macro\"), f1_score(y_true, y_pred, average = \"micro\")) )\n",
    "    print(\"macro Precision score: %.2f & micro Precision score: %.2f\" % (precision_score(y_true, y_pred, average = \"macro\"), precision_score(y_true, y_pred, average = \"micro\")) )\n",
    "    print(\"macro Recall score: %.2f & micro Recall score: %.2f\" % (recall_score(y_true, y_pred, average = \"macro\"), recall_score(y_true, y_pred, average = \"micro\")) )\n",
    "    print(15*\"----\")\n",
    "    \n",
    "    if plot:\n",
    "        plot_confusion_matrix(estimator, X, y_true,cmap = \"Greys\", xticks_rotation='vertical')\n",
    "    "
   ]
  },
  {
   "cell_type": "markdown",
   "metadata": {},
   "source": [
    "now lets calculate the metadata:"
   ]
  },
  {
   "cell_type": "code",
   "execution_count": 4,
   "metadata": {},
   "outputs": [
    {
     "name": "stdout",
     "output_type": "stream",
     "text": [
      "Metadata prepration starts...\n",
      "Experiment_1 Donor_1 condition_1\n"
     ]
    },
    {
     "name": "stderr",
     "output_type": "stream",
     "text": [
      "100%|██████████| 32266/32266 [00:02<00:00, 12079.66it/s]\n"
     ]
    },
    {
     "name": "stdout",
     "output_type": "stream",
     "text": [
      "Experiment_1 Donor_1 reco_cell.zip\n"
     ]
    },
    {
     "name": "stderr",
     "output_type": "stream",
     "text": [
      "0it [00:00, ?it/s]"
     ]
    },
    {
     "name": "stdout",
     "output_type": "stream",
     "text": [
      "...metadata prepration ended.\n",
      "CPU times: user 1.1 s, sys: 500 ms, total: 1.6 s\n",
      "Wall time: 3.2 s\n"
     ]
    },
    {
     "name": "stderr",
     "output_type": "stream",
     "text": [
      "\n"
     ]
    }
   ],
   "source": [
    "%%time\n",
    "\n",
    "data_path = \"/pstore/data/DS4/Cell_Cycle_h5/\"\n",
    "metadata = scifAI.metadata_generator(data_path)"
   ]
  },
  {
   "cell_type": "code",
   "execution_count": 5,
   "metadata": {},
   "outputs": [
    {
     "data": {
      "text/plain": [
       "<AxesSubplot:>"
      ]
     },
     "execution_count": 5,
     "metadata": {},
     "output_type": "execute_result"
    },
    {
     "data": {
      "image/png": "[encoded data removed]",
      "text/plain": [
       "<Figure size 432x288 with 1 Axes>"
      ]
     },
     "metadata": {
      "needs_background": "light"
     },
     "output_type": "display_data"
    }
   ],
   "source": [
    "metadata.label.hist()"
   ]
  },
  {
   "cell_type": "markdown",
   "metadata": {},
   "source": [
    "As you see, it is a very challenging classification task. For simplification, we downsample the majority classes"
   ]
  },
  {
   "cell_type": "code",
   "execution_count": 6,
   "metadata": {},
   "outputs": [],
   "source": [
    "sample_size = 200\n",
    "metadata_down_sampled = pd.DataFrame(columns=metadata.columns)\n",
    "\n",
    "\n",
    "for cl in metadata.label.unique():\n",
    "    row_index = metadata.label == cl\n",
    "    metadata_down_sampled = metadata_down_sampled.append(metadata.loc[row_index, :].sample(min(sample_size, row_index.sum())),\n",
    "                                                        ignore_index = True)\n",
    "    "
   ]
  },
  {
   "cell_type": "code",
   "execution_count": 7,
   "metadata": {},
   "outputs": [
    {
     "data": {
      "text/plain": [
       "<AxesSubplot:>"
      ]
     },
     "execution_count": 7,
     "metadata": {},
     "output_type": "execute_result"
    },
    {
     "data": {
      "image/png": "[encoded data removed]",
      "text/plain": [
       "<Figure size 432x288 with 1 Axes>"
      ]
     },
     "metadata": {
      "needs_background": "light"
     },
     "output_type": "display_data"
    }
   ],
   "source": [
    "metadata_down_sampled.label.hist()"
   ]
  },
  {
   "cell_type": "code",
   "execution_count": 8,
   "metadata": {},
   "outputs": [],
   "source": [
    "\n",
    "feature_union = FeatureUnion([\n",
    "                                (\"MaskBasedFeatures\", features.MaskBasedFeatures()), \n",
    "                                (\"GLCMFeatures\", features.GLCMFeatures()),  \n",
    "                                (\"GradientRMS\", features.GradientRMS()),  \n",
    "                                (\"BackgroundMean\", features.BackgroundMean()), \n",
    "                                (\"PercentileFeatures\", features.PercentileFeatures()), \n",
    "                                (\"CellShape\", features.CellShape()),  \n",
    "                                (\"Collocalization\", features.Collocalization()),    \n",
    "                                (\"IntersectionProperties\", features.IntersectionProperties()),\n",
    "                                (\"CenterOfCellsDistances\", features.CenterOfCellsDistances()),\n",
    "                                (\"HogFeatures\", features.HogFeatures()),\n",
    "]\n",
    ")"
   ]
  },
  {
   "cell_type": "markdown",
   "metadata": {},
   "source": [
    "because it is a very challenging task, we added Hog features"
   ]
  },
  {
   "cell_type": "code",
   "execution_count": 9,
   "metadata": {},
   "outputs": [],
   "source": [
    "from scifAI.ml.segmentation import SegmentationGenerator\n",
    "\n",
    "pipeline = Pipeline([\n",
    "                     (\"features\", feature_union)], verbose=3)\n"
   ]
  },
  {
   "cell_type": "code",
   "execution_count": 10,
   "metadata": {},
   "outputs": [],
   "source": [
    "\n",
    "feature_extractor = FeatureExtractor(pipeline)"
   ]
  },
  {
   "cell_type": "markdown",
   "metadata": {},
   "source": [
    "before running the feature extraction, lets look at a random sample (the 0th entry in the metadata dataframe)"
   ]
  },
  {
   "cell_type": "code",
   "execution_count": 11,
   "metadata": {},
   "outputs": [],
   "source": [
    "image, _ = feature_extractor.get_image_mask(metadata_down_sampled, 0)"
   ]
  },
  {
   "cell_type": "code",
   "execution_count": 12,
   "metadata": {},
   "outputs": [
    {
     "data": {
      "text/plain": [
       "(66, 66, 3)"
      ]
     },
     "execution_count": 12,
     "metadata": {},
     "output_type": "execute_result"
    }
   ],
   "source": [
    "image.shape"
   ]
  },
  {
   "cell_type": "code",
   "execution_count": 13,
   "metadata": {},
   "outputs": [
    {
     "data": {
      "text/plain": [
       "[]"
      ]
     },
     "execution_count": 13,
     "metadata": {},
     "output_type": "execute_result"
    },
    {
     "data": {
      "image/png": "[encoded data removed]",
      "text/plain": [
       "<Figure size 432x288 with 3 Axes>"
      ]
     },
     "metadata": {},
     "output_type": "display_data"
    }
   ],
   "source": [
    "sns.set_style(\"white\")\n",
    "fig, ax = plt.subplots(nrows = 1, \n",
    "                       ncols = 3, \n",
    "                       sharex = True, \n",
    "                       sharey = True)\n",
    "\n",
    "ax[0].imshow(image[:,:,0], cmap = \"Greys\")\n",
    "ax[0].set_xticks([])\n",
    "ax[0].set_yticks([])\n",
    "\n",
    "ax[1].imshow(image[:,:,1], cmap = \"Greens\")\n",
    "ax[1].set_xticks([])\n",
    "ax[1].set_yticks([])\n",
    "\n",
    "ax[2].imshow(image[:,:,2], cmap = \"Blues\")\n",
    "ax[2].set_xticks([])\n",
    "ax[2].set_yticks([])\n"
   ]
  },
  {
   "cell_type": "code",
   "execution_count": 14,
   "metadata": {},
   "outputs": [
    {
     "name": "stderr",
     "output_type": "stream",
     "text": [
      "100%|██████████| 910/910 [00:04<00:00, 206.31it/s]\n"
     ]
    }
   ],
   "source": [
    "\n",
    "list_of_features = feature_extractor.extract_features(metadata_down_sampled)"
   ]
  },
  {
   "cell_type": "markdown",
   "metadata": {},
   "source": [
    "lets create a dataframe with the metadata"
   ]
  },
  {
   "cell_type": "code",
   "execution_count": 15,
   "metadata": {},
   "outputs": [],
   "source": [
    "df_features = pd.DataFrame(list_of_features)"
   ]
  },
  {
   "cell_type": "code",
   "execution_count": 16,
   "metadata": {},
   "outputs": [
    {
     "data": {
      "text/html": [
       "<div>\n",
       "<style scoped>\n",
       "    .dataframe tbody tr th:only-of-type {\n",
       "        vertical-align: middle;\n",
       "    }\n",
       "\n",
       "    .dataframe tbody tr th {\n",
       "        vertical-align: top;\n",
       "    }\n",
       "\n",
       "    .dataframe thead th {\n",
       "        text-align: right;\n",
       "    }\n",
       "</style>\n",
       "<table border=\"1\" class=\"dataframe\">\n",
       "  <thead>\n",
       "    <tr style=\"text-align: right;\">\n",
       "      <th></th>\n",
       "      <th>mask_based_area_Ch1</th>\n",
       "      <th>mask_based_bbox_area_Ch1</th>\n",
       "      <th>mask_based_convex_area_Ch1</th>\n",
       "      <th>mask_based_eccentricity_Ch1</th>\n",
       "      <th>mask_based_equivalent_diameter_Ch1</th>\n",
       "      <th>mask_based_euler_number_Ch1</th>\n",
       "      <th>mask_based_extent_Ch1</th>\n",
       "      <th>mask_based_feret_diameter_max_Ch1</th>\n",
       "      <th>mask_based_filled_area_Ch1</th>\n",
       "      <th>mask_based_major_axis_length_Ch1</th>\n",
       "      <th>...</th>\n",
       "      <th>Hog_190_Ch3</th>\n",
       "      <th>Hog_191_Ch3</th>\n",
       "      <th>Hog_192_Ch3</th>\n",
       "      <th>Hog_193_Ch3</th>\n",
       "      <th>Hog_194_Ch3</th>\n",
       "      <th>Hog_195_Ch3</th>\n",
       "      <th>Hog_196_Ch3</th>\n",
       "      <th>Hog_197_Ch3</th>\n",
       "      <th>Hog_198_Ch3</th>\n",
       "      <th>Hog_199_Ch3</th>\n",
       "    </tr>\n",
       "  </thead>\n",
       "  <tbody>\n",
       "    <tr>\n",
       "      <th>0</th>\n",
       "      <td>511</td>\n",
       "      <td>702</td>\n",
       "      <td>537</td>\n",
       "      <td>0.277940</td>\n",
       "      <td>25.507360</td>\n",
       "      <td>1</td>\n",
       "      <td>0.727920</td>\n",
       "      <td>27.892651</td>\n",
       "      <td>511</td>\n",
       "      <td>26.180128</td>\n",
       "      <td>...</td>\n",
       "      <td>0.235538</td>\n",
       "      <td>0.345991</td>\n",
       "      <td>0.903343</td>\n",
       "      <td>0.229171</td>\n",
       "      <td>0.178695</td>\n",
       "      <td>0.078369</td>\n",
       "      <td>0.122626</td>\n",
       "      <td>0.259692</td>\n",
       "      <td>0.000000</td>\n",
       "      <td>0.104407</td>\n",
       "    </tr>\n",
       "    <tr>\n",
       "      <th>1</th>\n",
       "      <td>638</td>\n",
       "      <td>870</td>\n",
       "      <td>682</td>\n",
       "      <td>0.397034</td>\n",
       "      <td>28.501348</td>\n",
       "      <td>1</td>\n",
       "      <td>0.733333</td>\n",
       "      <td>31.016125</td>\n",
       "      <td>638</td>\n",
       "      <td>29.922523</td>\n",
       "      <td>...</td>\n",
       "      <td>0.396374</td>\n",
       "      <td>0.396374</td>\n",
       "      <td>0.589448</td>\n",
       "      <td>0.159714</td>\n",
       "      <td>0.104258</td>\n",
       "      <td>0.174708</td>\n",
       "      <td>0.589448</td>\n",
       "      <td>0.283816</td>\n",
       "      <td>0.133842</td>\n",
       "      <td>0.373814</td>\n",
       "    </tr>\n",
       "    <tr>\n",
       "      <th>2</th>\n",
       "      <td>620</td>\n",
       "      <td>837</td>\n",
       "      <td>656</td>\n",
       "      <td>0.604564</td>\n",
       "      <td>28.096415</td>\n",
       "      <td>1</td>\n",
       "      <td>0.740741</td>\n",
       "      <td>33.286634</td>\n",
       "      <td>620</td>\n",
       "      <td>31.631843</td>\n",
       "      <td>...</td>\n",
       "      <td>0.201112</td>\n",
       "      <td>0.259544</td>\n",
       "      <td>0.518092</td>\n",
       "      <td>0.030659</td>\n",
       "      <td>0.106262</td>\n",
       "      <td>0.515228</td>\n",
       "      <td>0.518092</td>\n",
       "      <td>0.319475</td>\n",
       "      <td>0.214885</td>\n",
       "      <td>0.192950</td>\n",
       "    </tr>\n",
       "    <tr>\n",
       "      <th>3</th>\n",
       "      <td>538</td>\n",
       "      <td>729</td>\n",
       "      <td>564</td>\n",
       "      <td>0.169765</td>\n",
       "      <td>26.172560</td>\n",
       "      <td>1</td>\n",
       "      <td>0.737997</td>\n",
       "      <td>27.892651</td>\n",
       "      <td>538</td>\n",
       "      <td>26.412809</td>\n",
       "      <td>...</td>\n",
       "      <td>0.317356</td>\n",
       "      <td>0.557993</td>\n",
       "      <td>0.450230</td>\n",
       "      <td>0.166544</td>\n",
       "      <td>0.241121</td>\n",
       "      <td>0.020778</td>\n",
       "      <td>0.450230</td>\n",
       "      <td>0.450230</td>\n",
       "      <td>0.320726</td>\n",
       "      <td>0.450230</td>\n",
       "    </tr>\n",
       "    <tr>\n",
       "      <th>4</th>\n",
       "      <td>621</td>\n",
       "      <td>812</td>\n",
       "      <td>643</td>\n",
       "      <td>0.141321</td>\n",
       "      <td>28.119064</td>\n",
       "      <td>1</td>\n",
       "      <td>0.764778</td>\n",
       "      <td>29.732137</td>\n",
       "      <td>621</td>\n",
       "      <td>28.267845</td>\n",
       "      <td>...</td>\n",
       "      <td>0.248164</td>\n",
       "      <td>0.439391</td>\n",
       "      <td>0.517605</td>\n",
       "      <td>0.091862</td>\n",
       "      <td>0.130461</td>\n",
       "      <td>0.353467</td>\n",
       "      <td>0.517605</td>\n",
       "      <td>0.193211</td>\n",
       "      <td>0.308721</td>\n",
       "      <td>0.425597</td>\n",
       "    </tr>\n",
       "  </tbody>\n",
       "</table>\n",
       "<p>5 rows × 849 columns</p>\n",
       "</div>"
      ],
      "text/plain": [
       "   mask_based_area_Ch1  mask_based_bbox_area_Ch1  mask_based_convex_area_Ch1  \\\n",
       "0                  511                       702                         537   \n",
       "1                  638                       870                         682   \n",
       "2                  620                       837                         656   \n",
       "3                  538                       729                         564   \n",
       "4                  621                       812                         643   \n",
       "\n",
       "   mask_based_eccentricity_Ch1  mask_based_equivalent_diameter_Ch1  \\\n",
       "0                     0.277940                           25.507360   \n",
       "1                     0.397034                           28.501348   \n",
       "2                     0.604564                           28.096415   \n",
       "3                     0.169765                           26.172560   \n",
       "4                     0.141321                           28.119064   \n",
       "\n",
       "   mask_based_euler_number_Ch1  mask_based_extent_Ch1  \\\n",
       "0                            1               0.727920   \n",
       "1                            1               0.733333   \n",
       "2                            1               0.740741   \n",
       "3                            1               0.737997   \n",
       "4                            1               0.764778   \n",
       "\n",
       "   mask_based_feret_diameter_max_Ch1  mask_based_filled_area_Ch1  \\\n",
       "0                          27.892651                         511   \n",
       "1                          31.016125                         638   \n",
       "2                          33.286634                         620   \n",
       "3                          27.892651                         538   \n",
       "4                          29.732137                         621   \n",
       "\n",
       "   mask_based_major_axis_length_Ch1  ...  Hog_190_Ch3  Hog_191_Ch3  \\\n",
       "0                         26.180128  ...     0.235538     0.345991   \n",
       "1                         29.922523  ...     0.396374     0.396374   \n",
       "2                         31.631843  ...     0.201112     0.259544   \n",
       "3                         26.412809  ...     0.317356     0.557993   \n",
       "4                         28.267845  ...     0.248164     0.439391   \n",
       "\n",
       "   Hog_192_Ch3  Hog_193_Ch3  Hog_194_Ch3  Hog_195_Ch3  Hog_196_Ch3  \\\n",
       "0     0.903343     0.229171     0.178695     0.078369     0.122626   \n",
       "1     0.589448     0.159714     0.104258     0.174708     0.589448   \n",
       "2     0.518092     0.030659     0.106262     0.515228     0.518092   \n",
       "3     0.450230     0.166544     0.241121     0.020778     0.450230   \n",
       "4     0.517605     0.091862     0.130461     0.353467     0.517605   \n",
       "\n",
       "   Hog_197_Ch3  Hog_198_Ch3  Hog_199_Ch3  \n",
       "0     0.259692     0.000000     0.104407  \n",
       "1     0.283816     0.133842     0.373814  \n",
       "2     0.319475     0.214885     0.192950  \n",
       "3     0.450230     0.320726     0.450230  \n",
       "4     0.193211     0.308721     0.425597  \n",
       "\n",
       "[5 rows x 849 columns]"
      ]
     },
     "execution_count": 16,
     "metadata": {},
     "output_type": "execute_result"
    }
   ],
   "source": [
    "df_features.head()"
   ]
  },
  {
   "cell_type": "markdown",
   "metadata": {},
   "source": [
    "after creating the features, we impute empty values with 0. and delete features with no variance. After that, we name the features correctly based on their real name"
   ]
  },
  {
   "cell_type": "code",
   "execution_count": 17,
   "metadata": {},
   "outputs": [],
   "source": [
    "df_features = df_features.fillna(0.)\n",
    "df_features = df_features.loc[:, df_features.std() > 0.]"
   ]
  },
  {
   "cell_type": "code",
   "execution_count": 18,
   "metadata": {},
   "outputs": [],
   "source": [
    "column_dict_rename = dict()\n",
    "\n",
    "channel_names = {   \n",
    "         \"Ch1\": \"BF\",\n",
    "         \"Ch2\": \"FL\",\n",
    "         \"Ch2\": \"DF\",}\n",
    "\n",
    "for col in df_features.columns:\n",
    "    new_col = col\n",
    "    for ch in channel_names:\n",
    "        new_col = new_col.replace(ch,channel_names[ch] )\n",
    "    column_dict_rename[col] = new_col\n",
    "    \n",
    "df_features = df_features.rename(columns=column_dict_rename).copy()"
   ]
  },
  {
   "cell_type": "markdown",
   "metadata": {},
   "source": [
    "let's create a train, validation and test set. We simply use the indexes, as it is easier to use it with sklearn pipelines"
   ]
  },
  {
   "cell_type": "code",
   "execution_count": 19,
   "metadata": {},
   "outputs": [],
   "source": [
    "from scifAI.dl.utils import train_validation_test_split\n",
    "\n",
    "\n",
    "train_index, validation_index, test_index = train_validation_test_split(metadata_down_sampled.index, \n",
    "                                                                        metadata_down_sampled.loc[:,\"label\"] + metadata_down_sampled.loc[:,\"experiment\"] + metadata_down_sampled.loc[:,\"donor\"],\n",
    "                                                                        validation_size=0.20, \n",
    "                                                                        test_size=0.30)\n",
    "\n",
    "\n"
   ]
  },
  {
   "cell_type": "markdown",
   "metadata": {},
   "source": [
    "lets train an XGBoost model on the data. we also use a feature selection before the classifiation to reduce the dimensionality"
   ]
  },
  {
   "cell_type": "code",
   "execution_count": 20,
   "metadata": {},
   "outputs": [
    {
     "name": "stdout",
     "output_type": "stream",
     "text": [
      "[Pipeline] .... (step 1 of 3) Processing StandardScaler, total=   0.0s\n",
      "Step 1: Find highly correlated features\n",
      "Step 2: wrapper methods\n",
      "Calculating mutual information\n",
      "Calculating SVC\n",
      "Calculating random forest\n",
      "Calculating l1 logistic regression\n",
      "Calculating l2 logistic regression\n",
      "Calculating xgb\n",
      "number of similar features among all the methods: 0\n",
      "From 843 initial features Selected (multicolinear): 185\n",
      "Step 3: clustering over correlation of features\n",
      "From 843 initial features Selected (uncorrelated): 50\n",
      "[Pipeline]  (step 2 of 3) Processing AutoFeatureSelection, total=  12.5s\n",
      "[Pipeline] ............... (step 3 of 3) Processing xgb, total=   9.0s\n"
     ]
    },
    {
     "data": {
      "text/plain": [
       "Pipeline(steps=[('StandardScaler', StandardScaler()),\n",
       "                ('AutoFeatureSelection',\n",
       "                 AutoFeatureSelection(top_k=50, verbose=True)),\n",
       "                ('xgb',\n",
       "                 XGBClassifier(base_score=0.5, booster='gbtree',\n",
       "                               colsample_bylevel=1, colsample_bynode=1,\n",
       "                               colsample_bytree=1, enable_categorical=False,\n",
       "                               eval_metric='logloss', gamma=0, gpu_id=-1,\n",
       "                               importance_type=None, interaction_constraints='',\n",
       "                               learning_rate=0.300000012, max_delta_step=0,\n",
       "                               max_depth=6, min_child_weight=1, missing=nan,\n",
       "                               monotone_constraints='()', n_estimators=1000,\n",
       "                               n_jobs=-1, num_parallel_tree=1,\n",
       "                               objective='multi:softprob', predictor='auto',\n",
       "                               random_state=0, reg_alpha=0, reg_lambda=1,\n",
       "                               scale_pos_weight=None, subsample=1,\n",
       "                               tree_method='exact', validate_parameters=1,\n",
       "                               verbosity=None))],\n",
       "         verbose=True)"
      ]
     },
     "execution_count": 20,
     "metadata": {},
     "output_type": "execute_result"
    }
   ],
   "source": [
    "from sklearn import manifold, datasets\n",
    "from sklearn import decomposition\n",
    "from umap import UMAP\n",
    "from sklearn.cluster import KMeans\n",
    "from sklearn.linear_model import LinearRegression,RidgeCV,PoissonRegressor\n",
    "from sklearn.ensemble import RandomForestRegressor\n",
    "from sklearn.pipeline import Pipeline\n",
    "from sklearn.preprocessing import StandardScaler, MinMaxScaler, RobustScaler\n",
    "from sklearn.feature_selection import mutual_info_regression\n",
    "from sklearn.metrics import r2_score, median_absolute_error\n",
    "from sklearn.feature_selection import f_regression\n",
    "from sklearn.feature_selection import SelectKBest\n",
    "from sklearn.model_selection import train_test_split\n",
    "from xgboost import XGBRegressor\n",
    "from sklearn.svm import LinearSVR\n",
    "\n",
    "xgb = Pipeline([\n",
    "                ('StandardScaler', StandardScaler()), \n",
    "                ('AutoFeatureSelection', AutoFeatureSelection( top_k = 200 ,verbose=True)),\n",
    "                 ('xgb', XGBClassifier(n_jobs = -1, n_estimators = 1000, eval_metric = \"logloss\") )\n",
    "], verbose=True)\n",
    "\n",
    "xgb.fit(df_features.loc[train_index.tolist() + validation_index.tolist(), :],  \n",
    "       metadata_down_sampled.loc[train_index.tolist() + validation_index.tolist(), \"label\"] )"
   ]
  },
  {
   "cell_type": "code",
   "execution_count": 21,
   "metadata": {},
   "outputs": [
    {
     "name": "stdout",
     "output_type": "stream",
     "text": [
      "              precision    recall  f1-score   support\n",
      "\n",
      "    Anaphase       0.83      1.00      0.91         5\n",
      "          G1       0.77      0.77      0.77        60\n",
      "          G2       0.54      0.43      0.48        60\n",
      "   Metaphase       0.79      0.55      0.65        20\n",
      "    Prophase       0.69      0.68      0.69        60\n",
      "           S       0.52      0.67      0.58        60\n",
      "   Telophase       0.89      1.00      0.94         8\n",
      "\n",
      "    accuracy                           0.65       273\n",
      "   macro avg       0.72      0.73      0.72       273\n",
      "weighted avg       0.65      0.65      0.65       273\n",
      "\n",
      "                   pre       rec       spe        f1       geo       iba       sup\n",
      "\n",
      "   Anaphase       0.83      1.00      1.00      0.91      1.00      1.00         5\n",
      "         G1       0.77      0.77      0.93      0.77      0.85      0.70        60\n",
      "         G2       0.54      0.43      0.90      0.48      0.62      0.37        60\n",
      "  Metaphase       0.79      0.55      0.99      0.65      0.74      0.52        20\n",
      "   Prophase       0.69      0.68      0.92      0.69      0.79      0.61        60\n",
      "          S       0.52      0.67      0.83      0.58      0.74      0.54        60\n",
      "  Telophase       0.89      1.00      1.00      0.94      1.00      1.00         8\n",
      "\n",
      "avg / total       0.65      0.65      0.91      0.65      0.76      0.58       273\n",
      "\n",
      "------------------------------------------------------------\n",
      "matthews correlation coeff: 0.56\n",
      "Cohen Kappa score: 0.56\n",
      "Cohen Kappa score: 0.56\n",
      "Accuracy: 0.65 & balanced Accuracy: 0.73\n",
      "macro F1 score: 0.72 & micro F1 score: 0.65\n",
      "macro Precision score: 0.72 & micro Precision score: 0.65\n",
      "macro Recall score: 0.73 & micro Recall score: 0.65\n",
      "------------------------------------------------------------\n"
     ]
    },
    {
     "data": {
      "image/png": "[encoded data removed]",
      "text/plain": [
       "<Figure size 432x288 with 2 Axes>"
      ]
     },
     "metadata": {},
     "output_type": "display_data"
    }
   ],
   "source": [
    "sns.set_style(\"white\")\n",
    "sns.set(font_scale = 1.1)\n",
    "\n",
    "sns.set_style(\"ticks\")\n",
    "classification_complete_report(xgb, \n",
    "                               df_features.loc[test_index, :],\n",
    "                               metadata_down_sampled.loc[test_index, \"label\"])"
   ]
  },
  {
   "cell_type": "markdown",
   "metadata": {},
   "source": [
    "the classifier reached macro f1 of 0.72 which is comparable with the main publication. We can also look at the 50 preselected feautres using scifAI"
   ]
  },
  {
   "cell_type": "code",
   "execution_count": 22,
   "metadata": {},
   "outputs": [
    {
     "data": {
      "text/plain": [
       "Index(['mask_based_bbox_area_BF', 'mask_based_eccentricity_BF',\n",
       "       'mask_based_feret_diameter_max_BF', 'mask_based_minor_axis_length_BF',\n",
       "       'mask_based_weighted_moments_hu-0_DF',\n",
       "       'mask_based_weighted_moments_hu-1_DF', 'contrast_DF',\n",
       "       'dissimilarity_DF', 'ASM_DF', 'contrast_Ch3', 'gradient_RMS_BF',\n",
       "       'percentile_10_DF', 'kurtosis_intensity_BF', 'skew_intensity_BF',\n",
       "       'sum_intensity_DF', 'correlation_distance_R1_BF_R2_DF',\n",
       "       'euclidean_distance_R1_BF_R2_DF', 'structural_similarity_R1_BF_R2_DF',\n",
       "       'structural_similarity_R1_BF_R3_Ch3', 'euclidean_distance_R2_DF_R3_Ch3',\n",
       "       'Hog_10_BF', 'Hog_14_BF', 'Hog_35_BF', 'Hog_49_BF', 'Hog_51_BF',\n",
       "       'Hog_52_BF', 'Hog_65_BF', 'Hog_84_BF', 'Hog_89_BF', 'Hog_104_BF',\n",
       "       'Hog_109_BF', 'Hog_162_BF', 'Hog_196_BF', 'Hog_4_DF', 'Hog_13_DF',\n",
       "       'Hog_19_DF', 'Hog_33_DF', 'Hog_46_DF', 'Hog_64_DF', 'Hog_93_DF',\n",
       "       'Hog_106_DF', 'Hog_107_DF', 'Hog_129_DF', 'Hog_136_DF', 'Hog_150_DF',\n",
       "       'Hog_152_DF', 'Hog_162_DF', 'Hog_58_Ch3', 'Hog_128_Ch3', 'Hog_145_Ch3'],\n",
       "      dtype='object')"
      ]
     },
     "execution_count": 22,
     "metadata": {},
     "output_type": "execute_result"
    }
   ],
   "source": [
    "selected_features = xgb.steps[1][1].selected_features\n",
    "selected_feature_names = df_features.columns[selected_features]\n",
    "selected_feature_names"
   ]
  },
  {
   "cell_type": "markdown",
   "metadata": {},
   "source": [
    "Finally, the most important features based on the Gini-index and Permutation importance are:"
   ]
  },
  {
   "cell_type": "code",
   "execution_count": 23,
   "metadata": {},
   "outputs": [
    {
     "data": {
      "image/png": "[encoded data removed]",
      "text/plain": [
       "<Figure size 1080x576 with 2 Axes>"
      ]
     },
     "metadata": {},
     "output_type": "display_data"
    }
   ],
   "source": [
    "sns.set_style( \"whitegrid\" )\n",
    "\n",
    "from sklearn.inspection import permutation_importance\n",
    "\n",
    "fig, (ax1, ax2) = plt.subplots(1, 2, figsize=(15, 8))\n",
    "\n",
    "tree_importance_sorted_idx = np.argsort(xgb.steps[2][1].feature_importances_)[-10:]\n",
    "\n",
    "tree_indices = np.arange(0, 10) + 0.5\n",
    "\n",
    "ax1.barh(tree_indices, \n",
    "         xgb.steps[2][1].feature_importances_[tree_importance_sorted_idx], \n",
    "         height=0.7, color  = \"grey\")\n",
    "ax1.set_yticklabels(df_features.columns[selected_features].values[tree_importance_sorted_idx])\n",
    "ax1.set_yticks(tree_indices)\n",
    "\n",
    "\n",
    "result = permutation_importance(xgb, \n",
    "                                df_features.loc[test_index, :],\n",
    "                                metadata_down_sampled.loc[test_index, \"label\"], \n",
    "                                n_repeats=10,\n",
    "                                random_state=42)\n",
    "perm_sorted_idx = result.importances_mean.argsort()[-10:]\n",
    "ax2.boxplot(result.importances[perm_sorted_idx].T, \n",
    "            vert=False,\n",
    "            labels=df_features.columns.values[perm_sorted_idx])\n",
    "\n",
    "fig.tight_layout()"
   ]
  },
  {
   "cell_type": "code",
   "execution_count": null,
   "metadata": {},
   "outputs": [],
   "source": []
  },
  {
   "cell_type": "code",
   "execution_count": null,
   "metadata": {},
   "outputs": [],
   "source": []
  },
  {
   "cell_type": "code",
   "execution_count": null,
   "metadata": {},
   "outputs": [],
   "source": []
  }
 ],
 "metadata": {
  "kernelspec": {
   "display_name": "Python 3",
   "language": "python",
   "name": "python3"
  },
  "language_info": {
   "codemirror_mode": {
    "name": "ipython",
    "version": 3
   },
   "file_extension": ".py",
   "mimetype": "text/x-python",
   "name": "python",
   "nbconvert_exporter": "python",
   "pygments_lexer": "ipython3",
   "version": "3.8.3"
  },
  "vscode": {
   "interpreter": {
    "hash": "dc85c72049d21f557e30689d2619ffc4ab3f684c40ae26d281fe4539bf4644b2"
   }
  }
 },
 "nbformat": 4,
 "nbformat_minor": 5
}
